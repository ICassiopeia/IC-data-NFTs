{
 "cells": [
  {
   "cell_type": "code",
   "execution_count": 23,
   "id": "d74c333c",
   "metadata": {},
   "outputs": [
    {
     "name": "stdout",
     "output_type": "stream",
     "text": [
      "{'F-NFT': {'local': 'rrkah-fqaaa-aaaaa-aaaaq-cai'}, '__Candid_UI': {'local': 'rkp4c-7iaaa-aaaaa-aaaca-cai'}, 'dataNFT_backend': {'local': 'ryjl3-tyaaa-aaaaa-aaaba-cai'}, 'dataNFT_frontend': {'local': 'r7inp-6aaaa-aaaaa-aaabq-cai'}}\n"
     ]
    }
   ],
   "source": [
    "import json\n",
    "import os\n",
    "root = os.path.dirname(os.path.dirname(os.path.dirname(os.getcwd())))\n",
    "\n",
    "with open(root+'/.dfx/local/canister_ids.json') as f:\n",
    "    canisters = json.load(f)\n",
    "print(canisters)"
   ]
  },
  {
   "cell_type": "code",
   "execution_count": 3,
   "id": "fbd015f2",
   "metadata": {},
   "outputs": [],
   "source": [
    "from ic.client import Client\n",
    "from ic.identity import Identity\n",
    "from ic.agent import Agent\n",
    "# Identity and Client are dependencies of Agent\n",
    "iden = Identity(privkey = \"833fe62409237b9d62ec77587520911e9a759cec1d19755b7da901b96dca3d42\")\n",
    "client = Client(url = \"http://127.0.0.1:8000\")\n",
    "# client = Client(url = \"https://ic0.app\")\n",
    "agent = Agent(iden, client)"
   ]
  },
  {
   "cell_type": "code",
   "execution_count": 81,
   "id": "af314e4b",
   "metadata": {},
   "outputs": [
    {
     "name": "stdout",
     "output_type": "stream",
     "text": [
      "[{'type': 'rec_77', 'value': [{'_920389099': 'kaggle_exams_dataset', '_1224700491': 'Exams dataset from Kaggle', '_1240611067': 1666745366161282000, '_2196848654': 1666745366161282000, '_3701456461': [{'_272307608': 'gender', '_791060705': 0, '_1175389504': {'_3268995520': ['male', 'female']}}, {'_272307608': 'ethnicity', '_791060705': 1, '_1175389504': {'_3268995520': ['group A', 'group B', 'group C', 'group D', 'group E']}}, {'_272307608': 'parental_education', '_791060705': 2, '_1175389504': {'_3268995520': ['high school', 'some high school', \"associate's degree\"]}}, {'_272307608': 'lunch', '_791060705': 3, '_1175389504': {'_3268995520': ['free/reduced', 'standard']}}, {'_272307608': 'preparation_course', '_791060705': 4, '_1175389504': {'_3268995520': ['completed', 'none']}}, {'_272307608': 'math_score', '_791060705': 5, '_1175389504': {'_1772889304': None}}, {'_272307608': 'reading_score', '_791060705': 6, '_1175389504': {'_1772889304': None}}, {'_272307608': 'writing_score', '_791060705': 7, '_1175389504': {'_1772889304': None}}]}]}]\n"
     ]
    }
   ],
   "source": [
    "from ic.candid import encode, decode, Types\n",
    "params = [\n",
    "\t{'type': Types.Nat32, 'value': 1}\n",
    "]\n",
    "asset_canister = canisters[\"dataNFT_backend\"][\"local\"]\n",
    "config = agent.query_raw(canisters[\"dataNFT_backend\"][\"local\"], \"getDatasetByDatasetId\", encode(params))\n",
    "data = agent.query_raw(canisters[\"dataNFT_backend\"][\"local\"], \"getDataByDatasetId\", encode(params))\n",
    "print(config)"
   ]
  },
  {
   "cell_type": "code",
   "execution_count": 84,
   "id": "a4e706a1",
   "metadata": {},
   "outputs": [
    {
     "name": "stdout",
     "output_type": "stream",
     "text": [
      "{0: 'gender', 1: 'ethnicity', 2: 'parental_education', 3: 'lunch', 4: 'preparation_course', 5: 'math_score', 6: 'reading_score', 7: 'writing_score'}\n"
     ]
    }
   ],
   "source": [
    "# print(asset_canister)\n",
    "configClean = {}\n",
    "for dim in config[0]['value'][0][\"_3701456461\"]:\n",
    "    configClean[dim[\"_791060705\"]] = dim[\"_272307608\"]\n",
    "print(configClean)\n",
    "\n",
    "def cleanRecord(row):\n",
    "#     print(row)\n",
    "    new_record = {\"id\": row[\"_23515\"][\"_23515\"]}\n",
    "    for item in row[\"_1337394146\"]:\n",
    "        col = configClean[item[\"_791060705\"]]\n",
    "        val = item[\"_834174833\"]\n",
    "        new_record[col] = val\n",
    "#     print(new_record)\n",
    "    return new_record\n",
    "\n",
    "datasetClean = list(map(cleanRecord, data[0]['value'][0]))"
   ]
  },
  {
   "cell_type": "code",
   "execution_count": null,
   "id": "de78f345",
   "metadata": {},
   "outputs": [],
   "source": [
    "import pandas as pd\n",
    "test = pd.read_json(datasetClean)\n"
   ]
  },
  {
   "cell_type": "code",
   "execution_count": 72,
   "id": "d313cc95",
   "metadata": {},
   "outputs": [
    {
     "name": "stdout",
     "output_type": "stream",
     "text": [
      "{1: 'gender', 2: 'ethnicity', 3: 'parental_education', 4: 'lunch', 5: 'preparation_course', 6: 'math_score', 7: 'reading_score', 8: 'writing_score'}\n"
     ]
    }
   ],
   "source": []
  },
  {
   "cell_type": "code",
   "execution_count": 60,
   "id": "ab9fca4e",
   "metadata": {},
   "outputs": [],
   "source": [
    "from ic.candid import encode, decode, Types\n",
    "name = agent.query_raw(\"rrkah-fqaaa-aaaaa-aaaaq-cai\", \"name\", encode([]))"
   ]
  },
  {
   "cell_type": "markdown",
   "id": "7d430678",
   "metadata": {},
   "source": []
  },
  {
   "cell_type": "markdown",
   "id": "b6006fc8",
   "metadata": {},
   "source": [
    "name\n"
   ]
  },
  {
   "cell_type": "code",
   "execution_count": 19,
   "id": "1264f492",
   "metadata": {},
   "outputs": [
    {
     "name": "stdout",
     "output_type": "stream",
     "text": [
      "IC0302: Canister rrkah-fqaaa-aaaaa-aaaaq-cai has no query method 'name'\n"
     ]
    }
   ],
   "source": [
    "print(name)"
   ]
  },
  {
   "cell_type": "code",
   "execution_count": null,
   "id": "52f2f098",
   "metadata": {},
   "outputs": [],
   "source": []
  }
 ],
 "metadata": {
  "kernelspec": {
   "display_name": "Python 3 (ipykernel)",
   "language": "python",
   "name": "python3"
  },
  "language_info": {
   "codemirror_mode": {
    "name": "ipython",
    "version": 3
   },
   "file_extension": ".py",
   "mimetype": "text/x-python",
   "name": "python",
   "nbconvert_exporter": "python",
   "pygments_lexer": "ipython3",
   "version": "3.9.10"
  }
 },
 "nbformat": 4,
 "nbformat_minor": 5
}
