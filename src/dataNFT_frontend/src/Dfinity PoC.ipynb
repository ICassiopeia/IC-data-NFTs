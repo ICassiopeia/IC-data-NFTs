{
 "cells": [
  {
   "cell_type": "code",
   "execution_count": null,
   "id": "bd0454d5",
   "metadata": {
    "scrolled": true
   },
   "outputs": [],
   "source": [
    "%%sh\n",
    "pip3.9 install plotly\n",
    "pip3.9 install numpy\n",
    "pip3.9 install seaborn"
   ]
  },
  {
   "cell_type": "code",
   "execution_count": 51,
   "id": "e04fde2f",
   "metadata": {},
   "outputs": [
    {
     "name": "stdout",
     "output_type": "stream",
     "text": [
      "{'F-NFT': {'local': 'rrkah-fqaaa-aaaaa-aaaaq-cai'}, '__Candid_UI': {'local': 'rkp4c-7iaaa-aaaaa-aaaca-cai'}, 'dataNFT_backend': {'local': 'ryjl3-tyaaa-aaaaa-aaaba-cai'}, 'dataNFT_frontend': {'local': 'r7inp-6aaaa-aaaaa-aaabq-cai'}}\n"
     ]
    }
   ],
   "source": [
    "import json\n",
    "import os\n",
    "root = os.path.dirname(os.path.dirname(os.path.dirname(os.getcwd())))\n",
    "\n",
    "with open(root+'/.dfx/local/canister_ids.json') as f:\n",
    "    canisters = json.load(f)\n",
    "print(canisters)"
   ]
  },
  {
   "cell_type": "code",
   "execution_count": 52,
   "id": "fa041a61",
   "metadata": {},
   "outputs": [],
   "source": [
    "from ic.client import Client\n",
    "from ic.identity import Identity\n",
    "from ic.agent import Agent\n",
    "# Identity and Client are dependencies of Agent\n",
    "iden = Identity(privkey = \"833fe62409237b9d62ec77587520911e9a759cec1d19755b7da901b96dca3d42\")\n",
    "client = Client(url = \"http://127.0.0.1:8000\")\n",
    "# client = Client(url = \"https://ic0.app\")\n",
    "agent = Agent(iden, client)\n",
    "datasetId = 1"
   ]
  },
  {
   "cell_type": "code",
   "execution_count": 53,
   "id": "720c4c7e",
   "metadata": {},
   "outputs": [],
   "source": [
    "from ic.candid import encode, decode, Types\n",
    "params = [\n",
    "\t{'type': Types.Nat32, 'value': datasetId}\n",
    "]\n",
    "asset_canister = canisters[\"dataNFT_backend\"][\"local\"]\n",
    "config = agent.query_raw(canisters[\"dataNFT_backend\"][\"local\"], \"getDatasetByDatasetId\", encode(params))\n",
    "data = agent.query_raw(canisters[\"dataNFT_backend\"][\"local\"], \"getDataByDatasetId\", encode(params))"
   ]
  },
  {
   "cell_type": "code",
   "execution_count": 54,
   "id": "74492e70",
   "metadata": {},
   "outputs": [
    {
     "name": "stdout",
     "output_type": "stream",
     "text": [
      "{0: 'gender', 1: 'ethnicity', 2: 'parental_education', 3: 'lunch', 4: 'preparation_course', 5: 'math_score', 6: 'reading_score', 7: 'writing_score'}\n"
     ]
    }
   ],
   "source": [
    "configClean = {}\n",
    "for dim in config[0]['value'][0][\"_3701456461\"]:\n",
    "    configClean[dim[\"_791060705\"]] = dim[\"_272307608\"]\n",
    "print(configClean)\n",
    "\n",
    "def cleanRecord(row):\n",
    "    new_record = {\"id\": row[\"_23515\"][\"_23515\"]}\n",
    "    for item in row[\"_1337394146\"]:\n",
    "        col = configClean[item[\"_791060705\"]]\n",
    "        val = item[\"_834174833\"]['_4210061340'] if '_4210061340' in item[\"_834174833\"] else item[\"_834174833\"]['_157452336']\n",
    "        new_record[col] = val\n",
    "    return new_record\n",
    "datasetClean = list(map(cleanRecord, data[0]['value'][0]))\n"
   ]
  },
  {
   "cell_type": "code",
   "execution_count": 55,
   "id": "f447762e",
   "metadata": {},
   "outputs": [
    {
     "name": "stdout",
     "output_type": "stream",
     "text": [
      "<class 'pandas.core.frame.DataFrame'>\n",
      "RangeIndex: 996 entries, 0 to 995\n",
      "Data columns (total 9 columns):\n",
      " #   Column              Non-Null Count  Dtype \n",
      "---  ------              --------------  ----- \n",
      " 0   id                  996 non-null    int64 \n",
      " 1   gender              996 non-null    object\n",
      " 2   ethnicity           996 non-null    object\n",
      " 3   parental_education  996 non-null    object\n",
      " 4   lunch               996 non-null    object\n",
      " 5   preparation_course  996 non-null    object\n",
      " 6   math_score          996 non-null    int64 \n",
      " 7   reading_score       996 non-null    int64 \n",
      " 8   writing_score       996 non-null    int64 \n",
      "dtypes: int64(4), object(5)\n",
      "memory usage: 70.2+ KB\n"
     ]
    },
    {
     "data": {
      "text/html": [
       "<div>\n",
       "<style scoped>\n",
       "    .dataframe tbody tr th:only-of-type {\n",
       "        vertical-align: middle;\n",
       "    }\n",
       "\n",
       "    .dataframe tbody tr th {\n",
       "        vertical-align: top;\n",
       "    }\n",
       "\n",
       "    .dataframe thead th {\n",
       "        text-align: right;\n",
       "    }\n",
       "</style>\n",
       "<table border=\"1\" class=\"dataframe\">\n",
       "  <thead>\n",
       "    <tr style=\"text-align: right;\">\n",
       "      <th></th>\n",
       "      <th>id</th>\n",
       "      <th>gender</th>\n",
       "      <th>ethnicity</th>\n",
       "      <th>parental_education</th>\n",
       "      <th>lunch</th>\n",
       "      <th>preparation_course</th>\n",
       "      <th>math_score</th>\n",
       "      <th>reading_score</th>\n",
       "      <th>writing_score</th>\n",
       "    </tr>\n",
       "  </thead>\n",
       "  <tbody>\n",
       "    <tr>\n",
       "      <th>0</th>\n",
       "      <td>12244</td>\n",
       "      <td>male</td>\n",
       "      <td>group A</td>\n",
       "      <td>some college</td>\n",
       "      <td>standard</td>\n",
       "      <td>completed</td>\n",
       "      <td>65</td>\n",
       "      <td>60</td>\n",
       "      <td>62</td>\n",
       "    </tr>\n",
       "    <tr>\n",
       "      <th>1</th>\n",
       "      <td>77325</td>\n",
       "      <td>female</td>\n",
       "      <td>group C</td>\n",
       "      <td>some college</td>\n",
       "      <td>standard</td>\n",
       "      <td>none</td>\n",
       "      <td>73</td>\n",
       "      <td>74</td>\n",
       "      <td>82</td>\n",
       "    </tr>\n",
       "    <tr>\n",
       "      <th>2</th>\n",
       "      <td>82847</td>\n",
       "      <td>female</td>\n",
       "      <td>group C</td>\n",
       "      <td>some high school</td>\n",
       "      <td>free/reduced</td>\n",
       "      <td>none</td>\n",
       "      <td>32</td>\n",
       "      <td>35</td>\n",
       "      <td>41</td>\n",
       "    </tr>\n",
       "    <tr>\n",
       "      <th>3</th>\n",
       "      <td>74978</td>\n",
       "      <td>male</td>\n",
       "      <td>group D</td>\n",
       "      <td>associate's degree</td>\n",
       "      <td>free/reduced</td>\n",
       "      <td>completed</td>\n",
       "      <td>85</td>\n",
       "      <td>91</td>\n",
       "      <td>92</td>\n",
       "    </tr>\n",
       "    <tr>\n",
       "      <th>4</th>\n",
       "      <td>9810</td>\n",
       "      <td>male</td>\n",
       "      <td>group C</td>\n",
       "      <td>high school</td>\n",
       "      <td>standard</td>\n",
       "      <td>none</td>\n",
       "      <td>73</td>\n",
       "      <td>70</td>\n",
       "      <td>65</td>\n",
       "    </tr>\n",
       "  </tbody>\n",
       "</table>\n",
       "</div>"
      ],
      "text/plain": [
       "      id  gender ethnicity  parental_education         lunch  \\\n",
       "0  12244    male   group A        some college      standard   \n",
       "1  77325  female   group C        some college      standard   \n",
       "2  82847  female   group C    some high school  free/reduced   \n",
       "3  74978    male   group D  associate's degree  free/reduced   \n",
       "4   9810    male   group C         high school      standard   \n",
       "\n",
       "  preparation_course  math_score  reading_score  writing_score  \n",
       "0          completed          65             60             62  \n",
       "1               none          73             74             82  \n",
       "2               none          32             35             41  \n",
       "3          completed          85             91             92  \n",
       "4               none          73             70             65  "
      ]
     },
     "execution_count": 55,
     "metadata": {},
     "output_type": "execute_result"
    }
   ],
   "source": [
    "# properly store dataset dynamically\n",
    "# - not a (incorrectly formatted) file\n",
    "# - preserves types\n",
    "import pandas as pd\n",
    "data = pd.DataFrame(datasetClean)\n",
    "data.info()\n",
    "data.head()"
   ]
  },
  {
   "cell_type": "code",
   "execution_count": 56,
   "id": "652eb0a7",
   "metadata": {},
   "outputs": [
    {
     "data": {
      "application/vnd.plotly.v1+json": {
       "config": {
        "plotlyServerURL": "https://plot.ly"
       },
       "data": [
        {
         "domain": {
          "x": [
           0,
           1
          ],
          "y": [
           0,
           1
          ]
         },
         "hovertemplate": "label=%{label}<br>value=%{value}<extra></extra>",
         "labels": [
          "some college",
          "associate's degree",
          "high school",
          "some high school",
          "bachelor's degree",
          "master's degree"
         ],
         "legendgroup": "",
         "name": "",
         "showlegend": true,
         "type": "pie",
         "values": [
          221,
          202,
          201,
          190,
          112,
          70
         ]
        }
       ],
       "layout": {
        "legend": {
         "tracegroupgap": 0
        },
        "margin": {
         "t": 60
        },
        "template": {
         "data": {
          "bar": [
           {
            "error_x": {
             "color": "#2a3f5f"
            },
            "error_y": {
             "color": "#2a3f5f"
            },
            "marker": {
             "line": {
              "color": "#E5ECF6",
              "width": 0.5
             },
             "pattern": {
              "fillmode": "overlay",
              "size": 10,
              "solidity": 0.2
             }
            },
            "type": "bar"
           }
          ],
          "barpolar": [
           {
            "marker": {
             "line": {
              "color": "#E5ECF6",
              "width": 0.5
             },
             "pattern": {
              "fillmode": "overlay",
              "size": 10,
              "solidity": 0.2
             }
            },
            "type": "barpolar"
           }
          ],
          "carpet": [
           {
            "aaxis": {
             "endlinecolor": "#2a3f5f",
             "gridcolor": "white",
             "linecolor": "white",
             "minorgridcolor": "white",
             "startlinecolor": "#2a3f5f"
            },
            "baxis": {
             "endlinecolor": "#2a3f5f",
             "gridcolor": "white",
             "linecolor": "white",
             "minorgridcolor": "white",
             "startlinecolor": "#2a3f5f"
            },
            "type": "carpet"
           }
          ],
          "choropleth": [
           {
            "colorbar": {
             "outlinewidth": 0,
             "ticks": ""
            },
            "type": "choropleth"
           }
          ],
          "contour": [
           {
            "colorbar": {
             "outlinewidth": 0,
             "ticks": ""
            },
            "colorscale": [
             [
              0,
              "#0d0887"
             ],
             [
              0.1111111111111111,
              "#46039f"
             ],
             [
              0.2222222222222222,
              "#7201a8"
             ],
             [
              0.3333333333333333,
              "#9c179e"
             ],
             [
              0.4444444444444444,
              "#bd3786"
             ],
             [
              0.5555555555555556,
              "#d8576b"
             ],
             [
              0.6666666666666666,
              "#ed7953"
             ],
             [
              0.7777777777777778,
              "#fb9f3a"
             ],
             [
              0.8888888888888888,
              "#fdca26"
             ],
             [
              1,
              "#f0f921"
             ]
            ],
            "type": "contour"
           }
          ],
          "contourcarpet": [
           {
            "colorbar": {
             "outlinewidth": 0,
             "ticks": ""
            },
            "type": "contourcarpet"
           }
          ],
          "heatmap": [
           {
            "colorbar": {
             "outlinewidth": 0,
             "ticks": ""
            },
            "colorscale": [
             [
              0,
              "#0d0887"
             ],
             [
              0.1111111111111111,
              "#46039f"
             ],
             [
              0.2222222222222222,
              "#7201a8"
             ],
             [
              0.3333333333333333,
              "#9c179e"
             ],
             [
              0.4444444444444444,
              "#bd3786"
             ],
             [
              0.5555555555555556,
              "#d8576b"
             ],
             [
              0.6666666666666666,
              "#ed7953"
             ],
             [
              0.7777777777777778,
              "#fb9f3a"
             ],
             [
              0.8888888888888888,
              "#fdca26"
             ],
             [
              1,
              "#f0f921"
             ]
            ],
            "type": "heatmap"
           }
          ],
          "heatmapgl": [
           {
            "colorbar": {
             "outlinewidth": 0,
             "ticks": ""
            },
            "colorscale": [
             [
              0,
              "#0d0887"
             ],
             [
              0.1111111111111111,
              "#46039f"
             ],
             [
              0.2222222222222222,
              "#7201a8"
             ],
             [
              0.3333333333333333,
              "#9c179e"
             ],
             [
              0.4444444444444444,
              "#bd3786"
             ],
             [
              0.5555555555555556,
              "#d8576b"
             ],
             [
              0.6666666666666666,
              "#ed7953"
             ],
             [
              0.7777777777777778,
              "#fb9f3a"
             ],
             [
              0.8888888888888888,
              "#fdca26"
             ],
             [
              1,
              "#f0f921"
             ]
            ],
            "type": "heatmapgl"
           }
          ],
          "histogram": [
           {
            "marker": {
             "pattern": {
              "fillmode": "overlay",
              "size": 10,
              "solidity": 0.2
             }
            },
            "type": "histogram"
           }
          ],
          "histogram2d": [
           {
            "colorbar": {
             "outlinewidth": 0,
             "ticks": ""
            },
            "colorscale": [
             [
              0,
              "#0d0887"
             ],
             [
              0.1111111111111111,
              "#46039f"
             ],
             [
              0.2222222222222222,
              "#7201a8"
             ],
             [
              0.3333333333333333,
              "#9c179e"
             ],
             [
              0.4444444444444444,
              "#bd3786"
             ],
             [
              0.5555555555555556,
              "#d8576b"
             ],
             [
              0.6666666666666666,
              "#ed7953"
             ],
             [
              0.7777777777777778,
              "#fb9f3a"
             ],
             [
              0.8888888888888888,
              "#fdca26"
             ],
             [
              1,
              "#f0f921"
             ]
            ],
            "type": "histogram2d"
           }
          ],
          "histogram2dcontour": [
           {
            "colorbar": {
             "outlinewidth": 0,
             "ticks": ""
            },
            "colorscale": [
             [
              0,
              "#0d0887"
             ],
             [
              0.1111111111111111,
              "#46039f"
             ],
             [
              0.2222222222222222,
              "#7201a8"
             ],
             [
              0.3333333333333333,
              "#9c179e"
             ],
             [
              0.4444444444444444,
              "#bd3786"
             ],
             [
              0.5555555555555556,
              "#d8576b"
             ],
             [
              0.6666666666666666,
              "#ed7953"
             ],
             [
              0.7777777777777778,
              "#fb9f3a"
             ],
             [
              0.8888888888888888,
              "#fdca26"
             ],
             [
              1,
              "#f0f921"
             ]
            ],
            "type": "histogram2dcontour"
           }
          ],
          "mesh3d": [
           {
            "colorbar": {
             "outlinewidth": 0,
             "ticks": ""
            },
            "type": "mesh3d"
           }
          ],
          "parcoords": [
           {
            "line": {
             "colorbar": {
              "outlinewidth": 0,
              "ticks": ""
             }
            },
            "type": "parcoords"
           }
          ],
          "pie": [
           {
            "automargin": true,
            "type": "pie"
           }
          ],
          "scatter": [
           {
            "fillpattern": {
             "fillmode": "overlay",
             "size": 10,
             "solidity": 0.2
            },
            "type": "scatter"
           }
          ],
          "scatter3d": [
           {
            "line": {
             "colorbar": {
              "outlinewidth": 0,
              "ticks": ""
             }
            },
            "marker": {
             "colorbar": {
              "outlinewidth": 0,
              "ticks": ""
             }
            },
            "type": "scatter3d"
           }
          ],
          "scattercarpet": [
           {
            "marker": {
             "colorbar": {
              "outlinewidth": 0,
              "ticks": ""
             }
            },
            "type": "scattercarpet"
           }
          ],
          "scattergeo": [
           {
            "marker": {
             "colorbar": {
              "outlinewidth": 0,
              "ticks": ""
             }
            },
            "type": "scattergeo"
           }
          ],
          "scattergl": [
           {
            "marker": {
             "colorbar": {
              "outlinewidth": 0,
              "ticks": ""
             }
            },
            "type": "scattergl"
           }
          ],
          "scattermapbox": [
           {
            "marker": {
             "colorbar": {
              "outlinewidth": 0,
              "ticks": ""
             }
            },
            "type": "scattermapbox"
           }
          ],
          "scatterpolar": [
           {
            "marker": {
             "colorbar": {
              "outlinewidth": 0,
              "ticks": ""
             }
            },
            "type": "scatterpolar"
           }
          ],
          "scatterpolargl": [
           {
            "marker": {
             "colorbar": {
              "outlinewidth": 0,
              "ticks": ""
             }
            },
            "type": "scatterpolargl"
           }
          ],
          "scatterternary": [
           {
            "marker": {
             "colorbar": {
              "outlinewidth": 0,
              "ticks": ""
             }
            },
            "type": "scatterternary"
           }
          ],
          "surface": [
           {
            "colorbar": {
             "outlinewidth": 0,
             "ticks": ""
            },
            "colorscale": [
             [
              0,
              "#0d0887"
             ],
             [
              0.1111111111111111,
              "#46039f"
             ],
             [
              0.2222222222222222,
              "#7201a8"
             ],
             [
              0.3333333333333333,
              "#9c179e"
             ],
             [
              0.4444444444444444,
              "#bd3786"
             ],
             [
              0.5555555555555556,
              "#d8576b"
             ],
             [
              0.6666666666666666,
              "#ed7953"
             ],
             [
              0.7777777777777778,
              "#fb9f3a"
             ],
             [
              0.8888888888888888,
              "#fdca26"
             ],
             [
              1,
              "#f0f921"
             ]
            ],
            "type": "surface"
           }
          ],
          "table": [
           {
            "cells": {
             "fill": {
              "color": "#EBF0F8"
             },
             "line": {
              "color": "white"
             }
            },
            "header": {
             "fill": {
              "color": "#C8D4E3"
             },
             "line": {
              "color": "white"
             }
            },
            "type": "table"
           }
          ]
         },
         "layout": {
          "annotationdefaults": {
           "arrowcolor": "#2a3f5f",
           "arrowhead": 0,
           "arrowwidth": 1
          },
          "autotypenumbers": "strict",
          "coloraxis": {
           "colorbar": {
            "outlinewidth": 0,
            "ticks": ""
           }
          },
          "colorscale": {
           "diverging": [
            [
             0,
             "#8e0152"
            ],
            [
             0.1,
             "#c51b7d"
            ],
            [
             0.2,
             "#de77ae"
            ],
            [
             0.3,
             "#f1b6da"
            ],
            [
             0.4,
             "#fde0ef"
            ],
            [
             0.5,
             "#f7f7f7"
            ],
            [
             0.6,
             "#e6f5d0"
            ],
            [
             0.7,
             "#b8e186"
            ],
            [
             0.8,
             "#7fbc41"
            ],
            [
             0.9,
             "#4d9221"
            ],
            [
             1,
             "#276419"
            ]
           ],
           "sequential": [
            [
             0,
             "#0d0887"
            ],
            [
             0.1111111111111111,
             "#46039f"
            ],
            [
             0.2222222222222222,
             "#7201a8"
            ],
            [
             0.3333333333333333,
             "#9c179e"
            ],
            [
             0.4444444444444444,
             "#bd3786"
            ],
            [
             0.5555555555555556,
             "#d8576b"
            ],
            [
             0.6666666666666666,
             "#ed7953"
            ],
            [
             0.7777777777777778,
             "#fb9f3a"
            ],
            [
             0.8888888888888888,
             "#fdca26"
            ],
            [
             1,
             "#f0f921"
            ]
           ],
           "sequentialminus": [
            [
             0,
             "#0d0887"
            ],
            [
             0.1111111111111111,
             "#46039f"
            ],
            [
             0.2222222222222222,
             "#7201a8"
            ],
            [
             0.3333333333333333,
             "#9c179e"
            ],
            [
             0.4444444444444444,
             "#bd3786"
            ],
            [
             0.5555555555555556,
             "#d8576b"
            ],
            [
             0.6666666666666666,
             "#ed7953"
            ],
            [
             0.7777777777777778,
             "#fb9f3a"
            ],
            [
             0.8888888888888888,
             "#fdca26"
            ],
            [
             1,
             "#f0f921"
            ]
           ]
          },
          "colorway": [
           "#636efa",
           "#EF553B",
           "#00cc96",
           "#ab63fa",
           "#FFA15A",
           "#19d3f3",
           "#FF6692",
           "#B6E880",
           "#FF97FF",
           "#FECB52"
          ],
          "font": {
           "color": "#2a3f5f"
          },
          "geo": {
           "bgcolor": "white",
           "lakecolor": "white",
           "landcolor": "#E5ECF6",
           "showlakes": true,
           "showland": true,
           "subunitcolor": "white"
          },
          "hoverlabel": {
           "align": "left"
          },
          "hovermode": "closest",
          "mapbox": {
           "style": "light"
          },
          "paper_bgcolor": "white",
          "plot_bgcolor": "#E5ECF6",
          "polar": {
           "angularaxis": {
            "gridcolor": "white",
            "linecolor": "white",
            "ticks": ""
           },
           "bgcolor": "#E5ECF6",
           "radialaxis": {
            "gridcolor": "white",
            "linecolor": "white",
            "ticks": ""
           }
          },
          "scene": {
           "xaxis": {
            "backgroundcolor": "#E5ECF6",
            "gridcolor": "white",
            "gridwidth": 2,
            "linecolor": "white",
            "showbackground": true,
            "ticks": "",
            "zerolinecolor": "white"
           },
           "yaxis": {
            "backgroundcolor": "#E5ECF6",
            "gridcolor": "white",
            "gridwidth": 2,
            "linecolor": "white",
            "showbackground": true,
            "ticks": "",
            "zerolinecolor": "white"
           },
           "zaxis": {
            "backgroundcolor": "#E5ECF6",
            "gridcolor": "white",
            "gridwidth": 2,
            "linecolor": "white",
            "showbackground": true,
            "ticks": "",
            "zerolinecolor": "white"
           }
          },
          "shapedefaults": {
           "line": {
            "color": "#2a3f5f"
           }
          },
          "ternary": {
           "aaxis": {
            "gridcolor": "white",
            "linecolor": "white",
            "ticks": ""
           },
           "baxis": {
            "gridcolor": "white",
            "linecolor": "white",
            "ticks": ""
           },
           "bgcolor": "#E5ECF6",
           "caxis": {
            "gridcolor": "white",
            "linecolor": "white",
            "ticks": ""
           }
          },
          "title": {
           "x": 0.05
          },
          "xaxis": {
           "automargin": true,
           "gridcolor": "white",
           "linecolor": "white",
           "ticks": "",
           "title": {
            "standoff": 15
           },
           "zerolinecolor": "white",
           "zerolinewidth": 2
          },
          "yaxis": {
           "automargin": true,
           "gridcolor": "white",
           "linecolor": "white",
           "ticks": "",
           "title": {
            "standoff": 15
           },
           "zerolinecolor": "white",
           "zerolinewidth": 2
          }
         }
        }
       }
      },
      "text/html": [
       "<div>                            <div id=\"eaa7fbe6-4e26-4126-a852-4b82d86a7adc\" class=\"plotly-graph-div\" style=\"height:525px; width:100%;\"></div>            <script type=\"text/javascript\">                require([\"plotly\"], function(Plotly) {                    window.PLOTLYENV=window.PLOTLYENV || {};                                    if (document.getElementById(\"eaa7fbe6-4e26-4126-a852-4b82d86a7adc\")) {                    Plotly.newPlot(                        \"eaa7fbe6-4e26-4126-a852-4b82d86a7adc\",                        [{\"domain\":{\"x\":[0.0,1.0],\"y\":[0.0,1.0]},\"hovertemplate\":\"label=%{label}<br>value=%{value}<extra></extra>\",\"labels\":[\"some college\",\"associate's degree\",\"high school\",\"some high school\",\"bachelor's degree\",\"master's degree\"],\"legendgroup\":\"\",\"name\":\"\",\"showlegend\":true,\"values\":[221,202,201,190,112,70],\"type\":\"pie\"}],                        {\"template\":{\"data\":{\"histogram2dcontour\":[{\"type\":\"histogram2dcontour\",\"colorbar\":{\"outlinewidth\":0,\"ticks\":\"\"},\"colorscale\":[[0.0,\"#0d0887\"],[0.1111111111111111,\"#46039f\"],[0.2222222222222222,\"#7201a8\"],[0.3333333333333333,\"#9c179e\"],[0.4444444444444444,\"#bd3786\"],[0.5555555555555556,\"#d8576b\"],[0.6666666666666666,\"#ed7953\"],[0.7777777777777778,\"#fb9f3a\"],[0.8888888888888888,\"#fdca26\"],[1.0,\"#f0f921\"]]}],\"choropleth\":[{\"type\":\"choropleth\",\"colorbar\":{\"outlinewidth\":0,\"ticks\":\"\"}}],\"histogram2d\":[{\"type\":\"histogram2d\",\"colorbar\":{\"outlinewidth\":0,\"ticks\":\"\"},\"colorscale\":[[0.0,\"#0d0887\"],[0.1111111111111111,\"#46039f\"],[0.2222222222222222,\"#7201a8\"],[0.3333333333333333,\"#9c179e\"],[0.4444444444444444,\"#bd3786\"],[0.5555555555555556,\"#d8576b\"],[0.6666666666666666,\"#ed7953\"],[0.7777777777777778,\"#fb9f3a\"],[0.8888888888888888,\"#fdca26\"],[1.0,\"#f0f921\"]]}],\"heatmap\":[{\"type\":\"heatmap\",\"colorbar\":{\"outlinewidth\":0,\"ticks\":\"\"},\"colorscale\":[[0.0,\"#0d0887\"],[0.1111111111111111,\"#46039f\"],[0.2222222222222222,\"#7201a8\"],[0.3333333333333333,\"#9c179e\"],[0.4444444444444444,\"#bd3786\"],[0.5555555555555556,\"#d8576b\"],[0.6666666666666666,\"#ed7953\"],[0.7777777777777778,\"#fb9f3a\"],[0.8888888888888888,\"#fdca26\"],[1.0,\"#f0f921\"]]}],\"heatmapgl\":[{\"type\":\"heatmapgl\",\"colorbar\":{\"outlinewidth\":0,\"ticks\":\"\"},\"colorscale\":[[0.0,\"#0d0887\"],[0.1111111111111111,\"#46039f\"],[0.2222222222222222,\"#7201a8\"],[0.3333333333333333,\"#9c179e\"],[0.4444444444444444,\"#bd3786\"],[0.5555555555555556,\"#d8576b\"],[0.6666666666666666,\"#ed7953\"],[0.7777777777777778,\"#fb9f3a\"],[0.8888888888888888,\"#fdca26\"],[1.0,\"#f0f921\"]]}],\"contourcarpet\":[{\"type\":\"contourcarpet\",\"colorbar\":{\"outlinewidth\":0,\"ticks\":\"\"}}],\"contour\":[{\"type\":\"contour\",\"colorbar\":{\"outlinewidth\":0,\"ticks\":\"\"},\"colorscale\":[[0.0,\"#0d0887\"],[0.1111111111111111,\"#46039f\"],[0.2222222222222222,\"#7201a8\"],[0.3333333333333333,\"#9c179e\"],[0.4444444444444444,\"#bd3786\"],[0.5555555555555556,\"#d8576b\"],[0.6666666666666666,\"#ed7953\"],[0.7777777777777778,\"#fb9f3a\"],[0.8888888888888888,\"#fdca26\"],[1.0,\"#f0f921\"]]}],\"surface\":[{\"type\":\"surface\",\"colorbar\":{\"outlinewidth\":0,\"ticks\":\"\"},\"colorscale\":[[0.0,\"#0d0887\"],[0.1111111111111111,\"#46039f\"],[0.2222222222222222,\"#7201a8\"],[0.3333333333333333,\"#9c179e\"],[0.4444444444444444,\"#bd3786\"],[0.5555555555555556,\"#d8576b\"],[0.6666666666666666,\"#ed7953\"],[0.7777777777777778,\"#fb9f3a\"],[0.8888888888888888,\"#fdca26\"],[1.0,\"#f0f921\"]]}],\"mesh3d\":[{\"type\":\"mesh3d\",\"colorbar\":{\"outlinewidth\":0,\"ticks\":\"\"}}],\"scatter\":[{\"fillpattern\":{\"fillmode\":\"overlay\",\"size\":10,\"solidity\":0.2},\"type\":\"scatter\"}],\"parcoords\":[{\"type\":\"parcoords\",\"line\":{\"colorbar\":{\"outlinewidth\":0,\"ticks\":\"\"}}}],\"scatterpolargl\":[{\"type\":\"scatterpolargl\",\"marker\":{\"colorbar\":{\"outlinewidth\":0,\"ticks\":\"\"}}}],\"bar\":[{\"error_x\":{\"color\":\"#2a3f5f\"},\"error_y\":{\"color\":\"#2a3f5f\"},\"marker\":{\"line\":{\"color\":\"#E5ECF6\",\"width\":0.5},\"pattern\":{\"fillmode\":\"overlay\",\"size\":10,\"solidity\":0.2}},\"type\":\"bar\"}],\"scattergeo\":[{\"type\":\"scattergeo\",\"marker\":{\"colorbar\":{\"outlinewidth\":0,\"ticks\":\"\"}}}],\"scatterpolar\":[{\"type\":\"scatterpolar\",\"marker\":{\"colorbar\":{\"outlinewidth\":0,\"ticks\":\"\"}}}],\"histogram\":[{\"marker\":{\"pattern\":{\"fillmode\":\"overlay\",\"size\":10,\"solidity\":0.2}},\"type\":\"histogram\"}],\"scattergl\":[{\"type\":\"scattergl\",\"marker\":{\"colorbar\":{\"outlinewidth\":0,\"ticks\":\"\"}}}],\"scatter3d\":[{\"type\":\"scatter3d\",\"line\":{\"colorbar\":{\"outlinewidth\":0,\"ticks\":\"\"}},\"marker\":{\"colorbar\":{\"outlinewidth\":0,\"ticks\":\"\"}}}],\"scattermapbox\":[{\"type\":\"scattermapbox\",\"marker\":{\"colorbar\":{\"outlinewidth\":0,\"ticks\":\"\"}}}],\"scatterternary\":[{\"type\":\"scatterternary\",\"marker\":{\"colorbar\":{\"outlinewidth\":0,\"ticks\":\"\"}}}],\"scattercarpet\":[{\"type\":\"scattercarpet\",\"marker\":{\"colorbar\":{\"outlinewidth\":0,\"ticks\":\"\"}}}],\"carpet\":[{\"aaxis\":{\"endlinecolor\":\"#2a3f5f\",\"gridcolor\":\"white\",\"linecolor\":\"white\",\"minorgridcolor\":\"white\",\"startlinecolor\":\"#2a3f5f\"},\"baxis\":{\"endlinecolor\":\"#2a3f5f\",\"gridcolor\":\"white\",\"linecolor\":\"white\",\"minorgridcolor\":\"white\",\"startlinecolor\":\"#2a3f5f\"},\"type\":\"carpet\"}],\"table\":[{\"cells\":{\"fill\":{\"color\":\"#EBF0F8\"},\"line\":{\"color\":\"white\"}},\"header\":{\"fill\":{\"color\":\"#C8D4E3\"},\"line\":{\"color\":\"white\"}},\"type\":\"table\"}],\"barpolar\":[{\"marker\":{\"line\":{\"color\":\"#E5ECF6\",\"width\":0.5},\"pattern\":{\"fillmode\":\"overlay\",\"size\":10,\"solidity\":0.2}},\"type\":\"barpolar\"}],\"pie\":[{\"automargin\":true,\"type\":\"pie\"}]},\"layout\":{\"autotypenumbers\":\"strict\",\"colorway\":[\"#636efa\",\"#EF553B\",\"#00cc96\",\"#ab63fa\",\"#FFA15A\",\"#19d3f3\",\"#FF6692\",\"#B6E880\",\"#FF97FF\",\"#FECB52\"],\"font\":{\"color\":\"#2a3f5f\"},\"hovermode\":\"closest\",\"hoverlabel\":{\"align\":\"left\"},\"paper_bgcolor\":\"white\",\"plot_bgcolor\":\"#E5ECF6\",\"polar\":{\"bgcolor\":\"#E5ECF6\",\"angularaxis\":{\"gridcolor\":\"white\",\"linecolor\":\"white\",\"ticks\":\"\"},\"radialaxis\":{\"gridcolor\":\"white\",\"linecolor\":\"white\",\"ticks\":\"\"}},\"ternary\":{\"bgcolor\":\"#E5ECF6\",\"aaxis\":{\"gridcolor\":\"white\",\"linecolor\":\"white\",\"ticks\":\"\"},\"baxis\":{\"gridcolor\":\"white\",\"linecolor\":\"white\",\"ticks\":\"\"},\"caxis\":{\"gridcolor\":\"white\",\"linecolor\":\"white\",\"ticks\":\"\"}},\"coloraxis\":{\"colorbar\":{\"outlinewidth\":0,\"ticks\":\"\"}},\"colorscale\":{\"sequential\":[[0.0,\"#0d0887\"],[0.1111111111111111,\"#46039f\"],[0.2222222222222222,\"#7201a8\"],[0.3333333333333333,\"#9c179e\"],[0.4444444444444444,\"#bd3786\"],[0.5555555555555556,\"#d8576b\"],[0.6666666666666666,\"#ed7953\"],[0.7777777777777778,\"#fb9f3a\"],[0.8888888888888888,\"#fdca26\"],[1.0,\"#f0f921\"]],\"sequentialminus\":[[0.0,\"#0d0887\"],[0.1111111111111111,\"#46039f\"],[0.2222222222222222,\"#7201a8\"],[0.3333333333333333,\"#9c179e\"],[0.4444444444444444,\"#bd3786\"],[0.5555555555555556,\"#d8576b\"],[0.6666666666666666,\"#ed7953\"],[0.7777777777777778,\"#fb9f3a\"],[0.8888888888888888,\"#fdca26\"],[1.0,\"#f0f921\"]],\"diverging\":[[0,\"#8e0152\"],[0.1,\"#c51b7d\"],[0.2,\"#de77ae\"],[0.3,\"#f1b6da\"],[0.4,\"#fde0ef\"],[0.5,\"#f7f7f7\"],[0.6,\"#e6f5d0\"],[0.7,\"#b8e186\"],[0.8,\"#7fbc41\"],[0.9,\"#4d9221\"],[1,\"#276419\"]]},\"xaxis\":{\"gridcolor\":\"white\",\"linecolor\":\"white\",\"ticks\":\"\",\"title\":{\"standoff\":15},\"zerolinecolor\":\"white\",\"automargin\":true,\"zerolinewidth\":2},\"yaxis\":{\"gridcolor\":\"white\",\"linecolor\":\"white\",\"ticks\":\"\",\"title\":{\"standoff\":15},\"zerolinecolor\":\"white\",\"automargin\":true,\"zerolinewidth\":2},\"scene\":{\"xaxis\":{\"backgroundcolor\":\"#E5ECF6\",\"gridcolor\":\"white\",\"linecolor\":\"white\",\"showbackground\":true,\"ticks\":\"\",\"zerolinecolor\":\"white\",\"gridwidth\":2},\"yaxis\":{\"backgroundcolor\":\"#E5ECF6\",\"gridcolor\":\"white\",\"linecolor\":\"white\",\"showbackground\":true,\"ticks\":\"\",\"zerolinecolor\":\"white\",\"gridwidth\":2},\"zaxis\":{\"backgroundcolor\":\"#E5ECF6\",\"gridcolor\":\"white\",\"linecolor\":\"white\",\"showbackground\":true,\"ticks\":\"\",\"zerolinecolor\":\"white\",\"gridwidth\":2}},\"shapedefaults\":{\"line\":{\"color\":\"#2a3f5f\"}},\"annotationdefaults\":{\"arrowcolor\":\"#2a3f5f\",\"arrowhead\":0,\"arrowwidth\":1},\"geo\":{\"bgcolor\":\"white\",\"landcolor\":\"#E5ECF6\",\"subunitcolor\":\"white\",\"showland\":true,\"showlakes\":true,\"lakecolor\":\"white\"},\"title\":{\"x\":0.05},\"mapbox\":{\"style\":\"light\"}}},\"legend\":{\"tracegroupgap\":0},\"margin\":{\"t\":60}},                        {\"responsive\": true}                    ).then(function(){\n",
       "                            \n",
       "var gd = document.getElementById('eaa7fbe6-4e26-4126-a852-4b82d86a7adc');\n",
       "var x = new MutationObserver(function (mutations, observer) {{\n",
       "        var display = window.getComputedStyle(gd).display;\n",
       "        if (!display || display === 'none') {{\n",
       "            console.log([gd, 'removed!']);\n",
       "            Plotly.purge(gd);\n",
       "            observer.disconnect();\n",
       "        }}\n",
       "}});\n",
       "\n",
       "// Listen for the removal of the full notebook cells\n",
       "var notebookContainer = gd.closest('#notebook-container');\n",
       "if (notebookContainer) {{\n",
       "    x.observe(notebookContainer, {childList: true});\n",
       "}}\n",
       "\n",
       "// Listen for the clearing of the current output cell\n",
       "var outputEl = gd.closest('.output');\n",
       "if (outputEl) {{\n",
       "    x.observe(outputEl, {childList: true});\n",
       "}}\n",
       "\n",
       "                        })                };                });            </script>        </div>"
      ]
     },
     "metadata": {},
     "output_type": "display_data"
    }
   ],
   "source": [
    "import plotly.express as px\n",
    "fig2 = px.pie(data, values = data['parental_education'].value_counts().values, names = data['parental_education'].value_counts().index)\n",
    "fig2.show()"
   ]
  },
  {
   "cell_type": "code",
   "execution_count": 57,
   "id": "9655be5b",
   "metadata": {},
   "outputs": [
    {
     "data": {
      "text/plain": [
       "<AxesSubplot: xlabel='math_score', ylabel='reading_score'>"
      ]
     },
     "execution_count": 57,
     "metadata": {},
     "output_type": "execute_result"
    },
    {
     "data": {
      "image/png": "[encoded data removed]",
      "text/plain": [
       "<Figure size 640x480 with 1 Axes>"
      ]
     },
     "metadata": {},
     "output_type": "display_data"
    }
   ],
   "source": [
    "import seaborn as sns\n",
    "sns.scatterplot(x = data.math_score, y = data.reading_score, hue = data.writing_score)"
   ]
  },
  {
   "cell_type": "code",
   "execution_count": 50,
   "id": "5766b6ec",
   "metadata": {},
   "outputs": [
    {
     "name": "stdout",
     "output_type": "stream",
     "text": [
      "[{'type': 'rec_68', 'value': [[{'_4210061340': 'group A'}, {'_5745035': 88, '_1248019663': 1}], [{'_4210061340': 'group A'}, {'_5745035': 61, '_1248019663': 1}], [{'_4210061340': 'group A'}, {'_5745035': 67, '_1248019663': 1}], [{'_4210061340': 'group A'}, {'_5745035': 64, '_1248019663': 1}], [{'_4210061340': 'group A'}, {'_5745035': 87, '_1248019663': 1}], [{'_4210061340': 'group A'}, {'_5745035': 73, '_1248019663': 1}], [{'_4210061340': 'group A'}, {'_5745035': 51, '_1248019663': 1}], [{'_4210061340': 'group A'}, {'_5745035': 40, '_1248019663': 1}], [{'_4210061340': 'group A'}, {'_5745035': 81, '_1248019663': 1}], [{'_4210061340': 'group A'}, {'_5745035': 66, '_1248019663': 1}], [{'_4210061340': 'group A'}, {'_5745035': 59, '_1248019663': 1}], [{'_4210061340': 'group A'}, {'_5745035': 72, '_1248019663': 1}], [{'_4210061340': 'group A'}, {'_5745035': 57, '_1248019663': 1}], [{'_4210061340': 'group A'}, {'_5745035': 70, '_1248019663': 1}], [{'_4210061340': 'group A'}, {'_5745035': 64, '_1248019663': 1}], [{'_4210061340': 'group A'}, {'_5745035': 92, '_1248019663': 1}], [{'_4210061340': 'group A'}, {'_5745035': 76, '_1248019663': 1}], [{'_4210061340': 'group A'}, {'_5745035': 76, '_1248019663': 1}], [{'_4210061340': 'group A'}, {'_5745035': 69, '_1248019663': 1}], [{'_4210061340': 'group A'}, {'_5745035': 64, '_1248019663': 1}], [{'_4210061340': 'group A'}, {'_5745035': 73, '_1248019663': 1}], [{'_4210061340': 'group A'}, {'_5745035': 251, '_1248019663': 4}], [{'_4210061340': 'group A'}, {'_5745035': 54, '_1248019663': 1}], [{'_4210061340': 'group A'}, {'_5745035': 78, '_1248019663': 1}], [{'_4210061340': 'group A'}, {'_5745035': 50, '_1248019663': 1}], [{'_4210061340': 'group A'}, {'_5745035': 61, '_1248019663': 1}], [{'_4210061340': 'group A'}, {'_5745035': 33, '_1248019663': 1}], [{'_4210061340': 'group A'}, {'_5745035': 73, '_1248019663': 1}], [{'_4210061340': 'group A'}, {'_5745035': 83, '_1248019663': 1}], [{'_4210061340': 'group A'}, {'_5745035': 97, '_1248019663': 1}], [{'_4210061340': 'group A'}, {'_5745035': 70, '_1248019663': 1}], [{'_4210061340': 'group A'}, {'_5745035': 83, '_1248019663': 1}], [{'_4210061340': 'group A'}, {'_5745035': 96, '_1248019663': 1}], [{'_4210061340': 'group A'}, {'_5745035': 48, '_1248019663': 1}], [{'_4210061340': 'group A'}, {'_5745035': 50, '_1248019663': 1}], [{'_4210061340': 'group A'}, {'_5745035': 78, '_1248019663': 1}], [{'_4210061340': 'group A'}, {'_5745035': 100, '_1248019663': 1}], [{'_4210061340': 'group A'}, {'_5745035': 68, '_1248019663': 1}], [{'_4210061340': 'group A'}, {'_5745035': 48, '_1248019663': 1}], [{'_4210061340': 'group A'}, {'_5745035': 100, '_1248019663': 1}], [{'_4210061340': 'group A'}, {'_5745035': 91, '_1248019663': 1}], [{'_4210061340': 'group A'}, {'_5745035': 44, '_1248019663': 1}], [{'_4210061340': 'group A'}, {'_5745035': 65, '_1248019663': 1}], [{'_4210061340': 'group A'}, {'_5745035': 71, '_1248019663': 1}], [{'_4210061340': 'group A'}, {'_5745035': 65, '_1248019663': 1}], [{'_4210061340': 'group A'}, {'_5745035': 49, '_1248019663': 1}], [{'_4210061340': 'group A'}, {'_5745035': 77, '_1248019663': 1}], [{'_4210061340': 'group A'}, {'_5745035': 71, '_1248019663': 1}], [{'_4210061340': 'group A'}, {'_5745035': 70, '_1248019663': 1}], [{'_4210061340': 'group A'}, {'_5745035': 82, '_1248019663': 1}], [{'_4210061340': 'group A'}, {'_5745035': 91, '_1248019663': 1}], [{'_4210061340': 'group A'}, {'_5745035': 75, '_1248019663': 1}], [{'_4210061340': 'group A'}, {'_5745035': 83, '_1248019663': 1}], [{'_4210061340': 'group A'}, {'_5745035': 90, '_1248019663': 1}], [{'_4210061340': 'group A'}, {'_5745035': 78, '_1248019663': 1}], [{'_4210061340': 'group A'}, {'_5745035': 73, '_1248019663': 1}], [{'_4210061340': 'group A'}, {'_5745035': 69, '_1248019663': 1}], [{'_4210061340': 'group A'}, {'_5745035': 63, '_1248019663': 1}], [{'_4210061340': 'group A'}, {'_5745035': 39, '_1248019663': 1}], [{'_4210061340': 'group A'}, {'_5745035': 72, '_1248019663': 1}], [{'_4210061340': 'group A'}, {'_5745035': 78, '_1248019663': 1}], [{'_4210061340': 'group A'}, {'_5745035': 86, '_1248019663': 1}], [{'_4210061340': 'group A'}, {'_5745035': 78, '_1248019663': 1}], [{'_4210061340': 'group A'}, {'_5745035': 57, '_1248019663': 1}], [{'_4210061340': 'group A'}, {'_5745035': 64, '_1248019663': 1}], [{'_4210061340': 'group A'}, {'_5745035': 85, '_1248019663': 1}], [{'_4210061340': 'group A'}, {'_5745035': 72, '_1248019663': 1}], [{'_4210061340': 'group A'}, {'_5745035': 44, '_1248019663': 1}], [{'_4210061340': 'group A'}, {'_5745035': 81, '_1248019663': 1}], [{'_4210061340': 'group A'}, {'_5745035': 34, '_1248019663': 1}], [{'_4210061340': 'group A'}, {'_5745035': 38, '_1248019663': 1}], [{'_4210061340': 'group A'}, {'_5745035': 50, '_1248019663': 1}], [{'_4210061340': 'group A'}, {'_5745035': 82, '_1248019663': 1}], [{'_4210061340': 'group A'}, {'_5745035': 74, '_1248019663': 1}], [{'_4210061340': 'group A'}, {'_5745035': 41, '_1248019663': 1}], [{'_4210061340': 'group A'}, {'_5745035': 74, '_1248019663': 1}], [{'_4210061340': 'group A'}, {'_5745035': 54, '_1248019663': 1}], [{'_4210061340': 'group A'}, {'_5745035': 59, '_1248019663': 1}], [{'_4210061340': 'group A'}, {'_5745035': 67, '_1248019663': 1}], [{'_4210061340': 'group B'}, {'_5745035': 96, '_1248019663': 1}], [{'_4210061340': 'group B'}, {'_5745035': 64, '_1248019663': 1}], [{'_4210061340': 'group B'}, {'_5745035': 34, '_1248019663': 1}], [{'_4210061340': 'group B'}, {'_5745035': 92, '_1248019663': 1}], [{'_4210061340': 'group B'}, {'_5745035': 84, '_1248019663': 1}], [{'_4210061340': 'group B'}, {'_5745035': 64, '_1248019663': 1}], [{'_4210061340': 'group B'}, {'_5745035': 52, '_1248019663': 1}], [{'_4210061340': 'group B'}, {'_5745035': 36, '_1248019663': 1}], [{'_4210061340': 'group B'}, {'_5745035': 82, '_1248019663': 1}], [{'_4210061340': 'group B'}, {'_5745035': 59, '_1248019663': 1}], [{'_4210061340': 'group B'}, {'_5745035': 74, '_1248019663': 1}], [{'_4210061340': 'group B'}, {'_5745035': 72, '_1248019663': 1}], [{'_4210061340': 'group B'}, {'_5745035': 77, '_1248019663': 1}], [{'_4210061340': 'group B'}, {'_5745035': 73, '_1248019663': 1}], [{'_4210061340': 'group B'}, {'_5745035': 71, '_1248019663': 1}], [{'_4210061340': 'group B'}, {'_5745035': 49, '_1248019663': 1}], [{'_4210061340': 'group B'}, {'_5745035': 72, '_1248019663': 1}], [{'_4210061340': 'group B'}, {'_5745035': 79, '_1248019663': 1}], [{'_4210061340': 'group B'}, {'_5745035': 73, '_1248019663': 1}], [{'_4210061340': 'group B'}, {'_5745035': 96, '_1248019663': 1}], [{'_4210061340': 'group B'}, {'_5745035': 87, '_1248019663': 1}], [{'_4210061340': 'group B'}, {'_5745035': 63, '_1248019663': 1}], [{'_4210061340': 'group B'}, {'_5745035': 54, '_1248019663': 1}], [{'_4210061340': 'group B'}, {'_5745035': 85, '_1248019663': 1}], [{'_4210061340': 'group B'}, {'_5745035': 34, '_1248019663': 1}], [{'_4210061340': 'group B'}, {'_5745035': 60, '_1248019663': 1}], [{'_4210061340': 'group B'}, {'_5745035': 66, '_1248019663': 1}], [{'_4210061340': 'group B'}, {'_5745035': 85, '_1248019663': 1}], [{'_4210061340': 'group B'}, {'_5745035': 98, '_1248019663': 1}], [{'_4210061340': 'group B'}, {'_5745035': 86, '_1248019663': 1}], [{'_4210061340': 'group B'}, {'_5745035': 78, '_1248019663': 1}], [{'_4210061340': 'group B'}, {'_5745035': 67, '_1248019663': 1}], [{'_4210061340': 'group B'}, {'_5745035': 64, '_1248019663': 1}], [{'_4210061340': 'group B'}, {'_5745035': 43, '_1248019663': 1}], [{'_4210061340': 'group B'}, {'_5745035': 77, '_1248019663': 1}], [{'_4210061340': 'group B'}, {'_5745035': 48, '_1248019663': 1}], [{'_4210061340': 'group B'}, {'_5745035': 60, '_1248019663': 1}], [{'_4210061340': 'group B'}, {'_5745035': 77, '_1248019663': 1}], [{'_4210061340': 'group B'}, {'_5745035': 53, '_1248019663': 1}], [{'_4210061340': 'group B'}, {'_5745035': 70, '_1248019663': 1}], [{'_4210061340': 'group B'}, {'_5745035': 56, '_1248019663': 1}], [{'_4210061340': 'group B'}, {'_5745035': 69, '_1248019663': 1}], [{'_4210061340': 'group B'}, {'_5745035': 61, '_1248019663': 1}], [{'_4210061340': 'group B'}, {'_5745035': 92, '_1248019663': 1}], [{'_4210061340': 'group B'}, {'_5745035': 63, '_1248019663': 1}], [{'_4210061340': 'group B'}, {'_5745035': 72, '_1248019663': 1}], [{'_4210061340': 'group B'}, {'_5745035': 64, '_1248019663': 1}], [{'_4210061340': 'group B'}, {'_5745035': 86, '_1248019663': 1}], [{'_4210061340': 'group B'}, {'_5745035': 50, '_1248019663': 1}], [{'_4210061340': 'group B'}, {'_5745035': 57, '_1248019663': 1}], [{'_4210061340': 'group B'}, {'_5745035': 68, '_1248019663': 1}], [{'_4210061340': 'group B'}, {'_5745035': 36, '_1248019663': 1}], [{'_4210061340': 'group B'}, {'_5745035': 58, '_1248019663': 1}], [{'_4210061340': 'group B'}, {'_5745035': 86, '_1248019663': 1}], [{'_4210061340': 'group B'}, {'_5745035': 73, '_1248019663': 1}], [{'_4210061340': 'group B'}, {'_5745035': 53, '_1248019663': 1}], [{'_4210061340': 'group B'}, {'_5745035': 54, '_1248019663': 1}], [{'_4210061340': 'group B'}, {'_5745035': 55, '_1248019663': 1}], [{'_4210061340': 'group B'}, {'_5745035': 81, '_1248019663': 1}], [{'_4210061340': 'group B'}, {'_5745035': 62, '_1248019663': 1}], [{'_4210061340': 'group B'}, {'_5745035': 78, '_1248019663': 1}], [{'_4210061340': 'group B'}, {'_5745035': 28, '_1248019663': 1}], [{'_4210061340': 'group B'}, {'_5745035': 74, '_1248019663': 1}], [{'_4210061340': 'group B'}, {'_5745035': 58, '_1248019663': 1}], [{'_4210061340': 'group B'}, {'_5745035': 79, '_1248019663': 1}], [{'_4210061340': 'group B'}, {'_5745035': 57, '_1248019663': 1}], [{'_4210061340': 'group B'}, {'_5745035': 88, '_1248019663': 1}], [{'_4210061340': 'group B'}, {'_5745035': 54, '_1248019663': 1}], [{'_4210061340': 'group B'}, {'_5745035': 82, '_1248019663': 1}], [{'_4210061340': 'group B'}, {'_5745035': 81, '_1248019663': 1}], [{'_4210061340': 'group B'}, {'_5745035': 70, '_1248019663': 1}], [{'_4210061340': 'group B'}, {'_5745035': 78, '_1248019663': 1}], [{'_4210061340': 'group B'}, {'_5745035': 58, '_1248019663': 1}], [{'_4210061340': 'group B'}, {'_5745035': 51, '_1248019663': 1}], [{'_4210061340': 'group B'}, {'_5745035': 57, '_1248019663': 1}], [{'_4210061340': 'group B'}, {'_5745035': 59, '_1248019663': 1}], [{'_4210061340': 'group B'}, {'_5745035': 29, '_1248019663': 1}], [{'_4210061340': 'group B'}, {'_5745035': 65, '_1248019663': 1}], [{'_4210061340': 'group B'}, {'_5745035': 76, '_1248019663': 1}], [{'_4210061340': 'group B'}, {'_5745035': 46, '_1248019663': 1}], [{'_4210061340': 'group B'}, {'_5745035': 86, '_1248019663': 1}], [{'_4210061340': 'group B'}, {'_5745035': 59, '_1248019663': 1}], [{'_4210061340': 'group B'}, {'_5745035': 65, '_1248019663': 1}], [{'_4210061340': 'group B'}, {'_5745035': 50, '_1248019663': 1}], [{'_4210061340': 'group B'}, {'_5745035': 62, '_1248019663': 1}], [{'_4210061340': 'group B'}, {'_5745035': 85, '_1248019663': 1}], [{'_4210061340': 'group B'}, {'_5745035': 74, '_1248019663': 1}], [{'_4210061340': 'group B'}, {'_5745035': 70, '_1248019663': 1}], [{'_4210061340': 'group B'}, {'_5745035': 81, '_1248019663': 1}], [{'_4210061340': 'group B'}, {'_5745035': 79, '_1248019663': 1}], [{'_4210061340': 'group B'}, {'_5745035': 40, '_1248019663': 1}], [{'_4210061340': 'group B'}, {'_5745035': 75, '_1248019663': 1}], [{'_4210061340': 'group B'}, {'_5745035': 76, '_1248019663': 1}], [{'_4210061340': 'group B'}, {'_5745035': 65, '_1248019663': 1}], [{'_4210061340': 'group B'}, {'_5745035': 94, '_1248019663': 1}], [{'_4210061340': 'group B'}, {'_5745035': 61, '_1248019663': 1}], [{'_4210061340': 'group B'}, {'_5745035': 52, '_1248019663': 1}], [{'_4210061340': 'group B'}, {'_5745035': 73, '_1248019663': 1}], [{'_4210061340': 'group B'}, {'_5745035': 66, '_1248019663': 1}], [{'_4210061340': 'group B'}, {'_5745035': 69, '_1248019663': 1}], [{'_4210061340': 'group B'}, {'_5745035': 88, '_1248019663': 1}], [{'_4210061340': 'group B'}, {'_5745035': 68, '_1248019663': 1}], [{'_4210061340': 'group B'}, {'_5745035': 65, '_1248019663': 1}], [{'_4210061340': 'group B'}, {'_5745035': 88, '_1248019663': 1}], [{'_4210061340': 'group B'}, {'_5745035': 71, '_1248019663': 1}], [{'_4210061340': 'group B'}, {'_5745035': 48, '_1248019663': 1}], [{'_4210061340': 'group B'}, {'_5745035': 87, '_1248019663': 1}], [{'_4210061340': 'group B'}, {'_5745035': 85, '_1248019663': 1}], [{'_4210061340': 'group B'}, {'_5745035': 62, '_1248019663': 1}], [{'_4210061340': 'group B'}, {'_5745035': 67, '_1248019663': 1}], [{'_4210061340': 'group B'}, {'_5745035': 82, '_1248019663': 1}], [{'_4210061340': 'group B'}, {'_5745035': 87, '_1248019663': 1}], [{'_4210061340': 'group B'}, {'_5745035': 59, '_1248019663': 1}], [{'_4210061340': 'group B'}, {'_5745035': 62, '_1248019663': 1}], [{'_4210061340': 'group B'}, {'_5745035': 66, '_1248019663': 1}], [{'_4210061340': 'group B'}, {'_5745035': 78, '_1248019663': 1}], [{'_4210061340': 'group B'}, {'_5745035': 75, '_1248019663': 1}], [{'_4210061340': 'group B'}, {'_5745035': 64, '_1248019663': 1}], [{'_4210061340': 'group B'}, {'_5745035': 63, '_1248019663': 1}], [{'_4210061340': 'group B'}, {'_5745035': 73, '_1248019663': 1}], [{'_4210061340': 'group B'}, {'_5745035': 80, '_1248019663': 1}], [{'_4210061340': 'group B'}, {'_5745035': 78, '_1248019663': 1}], [{'_4210061340': 'group B'}, {'_5745035': 54, '_1248019663': 1}], [{'_4210061340': 'group B'}, {'_5745035': 71, '_1248019663': 1}], [{'_4210061340': 'group B'}, {'_5745035': 67, '_1248019663': 1}], [{'_4210061340': 'group B'}, {'_5745035': 63, '_1248019663': 1}], [{'_4210061340': 'group B'}, {'_5745035': 60, '_1248019663': 1}], [{'_4210061340': 'group B'}, {'_5745035': 71, '_1248019663': 1}], [{'_4210061340': 'group B'}, {'_5745035': 54, '_1248019663': 1}], [{'_4210061340': 'group B'}, {'_5745035': 88, '_1248019663': 1}], [{'_4210061340': 'group B'}, {'_5745035': 58, '_1248019663': 1}], [{'_4210061340': 'group B'}, {'_5745035': 79, '_1248019663': 1}], [{'_4210061340': 'group B'}, {'_5745035': 80, '_1248019663': 1}], [{'_4210061340': 'group B'}, {'_5745035': 80, '_1248019663': 1}], [{'_4210061340': 'group B'}, {'_5745035': 57, '_1248019663': 1}], [{'_4210061340': 'group B'}, {'_5745035': 28, '_1248019663': 1}], [{'_4210061340': 'group B'}, {'_5745035': 58, '_1248019663': 1}], [{'_4210061340': 'group B'}, {'_5745035': 77, '_1248019663': 1}], [{'_4210061340': 'group B'}, {'_5745035': 63, '_1248019663': 1}], [{'_4210061340': 'group B'}, {'_5745035': 49, '_1248019663': 1}], [{'_4210061340': 'group B'}, {'_5745035': 65, '_1248019663': 1}], [{'_4210061340': 'group B'}, {'_5745035': 49, '_1248019663': 1}], [{'_4210061340': 'group B'}, {'_5745035': 93, '_1248019663': 1}], [{'_4210061340': 'group B'}, {'_5745035': 71, '_1248019663': 1}], [{'_4210061340': 'group B'}, {'_5745035': 58, '_1248019663': 1}], [{'_4210061340': 'group B'}, {'_5745035': 79, '_1248019663': 1}], [{'_4210061340': 'group B'}, {'_5745035': 76, '_1248019663': 1}], [{'_4210061340': 'group B'}, {'_5745035': 34, '_1248019663': 1}], [{'_4210061340': 'group B'}, {'_5745035': 62, '_1248019663': 1}], [{'_4210061340': 'group B'}, {'_5745035': 79, '_1248019663': 1}], [{'_4210061340': 'group B'}, {'_5745035': 75, '_1248019663': 1}], [{'_4210061340': 'group B'}, {'_5745035': 48, '_1248019663': 1}], [{'_4210061340': 'group B'}, {'_5745035': 59, '_1248019663': 1}], [{'_4210061340': 'group B'}, {'_5745035': 72, '_1248019663': 1}], [{'_4210061340': 'group B'}, {'_5745035': 57, '_1248019663': 1}], [{'_4210061340': 'group B'}, {'_5745035': 62, '_1248019663': 1}], [{'_4210061340': 'group B'}, {'_5745035': 74, '_1248019663': 1}], [{'_4210061340': 'group B'}, {'_5745035': 64, '_1248019663': 1}], [{'_4210061340': 'group B'}, {'_5745035': 62, '_1248019663': 1}], [{'_4210061340': 'group B'}, {'_5745035': 51, '_1248019663': 1}], [{'_4210061340': 'group B'}, {'_5745035': 57, '_1248019663': 1}], [{'_4210061340': 'group B'}, {'_5745035': 63, '_1248019663': 1}], [{'_4210061340': 'group B'}, {'_5745035': 77, '_1248019663': 1}], [{'_4210061340': 'group B'}, {'_5745035': 53, '_1248019663': 1}], [{'_4210061340': 'group B'}, {'_5745035': 74, '_1248019663': 1}], [{'_4210061340': 'group B'}, {'_5745035': 60, '_1248019663': 1}], [{'_4210061340': 'group B'}, {'_5745035': 64, '_1248019663': 1}], [{'_4210061340': 'group B'}, {'_5745035': 64, '_1248019663': 1}], [{'_4210061340': 'group B'}, {'_5745035': 75, '_1248019663': 1}], [{'_4210061340': 'group B'}, {'_5745035': 64, '_1248019663': 1}], [{'_4210061340': 'group B'}, {'_5745035': 79, '_1248019663': 1}], [{'_4210061340': 'group B'}, {'_5745035': 61, '_1248019663': 1}], [{'_4210061340': 'group B'}, {'_5745035': 57, '_1248019663': 1}], [{'_4210061340': 'group B'}, {'_5745035': 71, '_1248019663': 1}], [{'_4210061340': 'group B'}, {'_5745035': 62, '_1248019663': 1}], [{'_4210061340': 'group B'}, {'_5745035': 63, '_1248019663': 1}], [{'_4210061340': 'group B'}, {'_5745035': 66, '_1248019663': 1}], [{'_4210061340': 'group B'}, {'_5745035': 63, '_1248019663': 1}], [{'_4210061340': 'group B'}, {'_5745035': 70, '_1248019663': 1}], [{'_4210061340': 'group B'}, {'_5745035': 79, '_1248019663': 1}], [{'_4210061340': 'group B'}, {'_5745035': 78, '_1248019663': 1}], [{'_4210061340': 'group B'}, {'_5745035': 58, '_1248019663': 1}], [{'_4210061340': 'group B'}, {'_5745035': 54, '_1248019663': 1}], [{'_4210061340': 'group B'}, {'_5745035': 52, '_1248019663': 1}], [{'_4210061340': 'group B'}, {'_5745035': 73, '_1248019663': 1}], [{'_4210061340': 'group B'}, {'_5745035': 71, '_1248019663': 1}], [{'_4210061340': 'group B'}, {'_5745035': 76, '_1248019663': 1}], [{'_4210061340': 'group B'}, {'_5745035': 41, '_1248019663': 1}], [{'_4210061340': 'group B'}, {'_5745035': 76, '_1248019663': 1}], [{'_4210061340': 'group B'}, {'_5745035': 59, '_1248019663': 1}], [{'_4210061340': 'group B'}, {'_5745035': 76, '_1248019663': 1}], [{'_4210061340': 'group B'}, {'_5745035': 70, '_1248019663': 1}], [{'_4210061340': 'group B'}, {'_5745035': 64, '_1248019663': 1}], [{'_4210061340': 'group B'}, {'_5745035': 75, '_1248019663': 1}], [{'_4210061340': 'group B'}, {'_5745035': 68, '_1248019663': 1}], [{'_4210061340': 'group B'}, {'_5745035': 65, '_1248019663': 1}], [{'_4210061340': 'group B'}, {'_5745035': 88, '_1248019663': 1}], [{'_4210061340': 'group B'}, {'_5745035': 65, '_1248019663': 1}], [{'_4210061340': 'group B'}, {'_5745035': 79, '_1248019663': 1}], [{'_4210061340': 'group B'}, {'_5745035': 89, '_1248019663': 1}], [{'_4210061340': 'group B'}, {'_5745035': 55, '_1248019663': 1}], [{'_4210061340': 'group B'}, {'_5745035': 69, '_1248019663': 1}], [{'_4210061340': 'group B'}, {'_5745035': 47, '_1248019663': 1}], [{'_4210061340': 'group B'}, {'_5745035': 78, '_1248019663': 1}], [{'_4210061340': 'group C'}, {'_5745035': 79, '_1248019663': 1}], [{'_4210061340': 'group C'}, {'_5745035': 49, '_1248019663': 1}], [{'_4210061340': 'group C'}, {'_5745035': 76, '_1248019663': 1}], [{'_4210061340': 'group C'}, {'_5745035': 87, '_1248019663': 1}], [{'_4210061340': 'group C'}, {'_5745035': 48, '_1248019663': 1}], [{'_4210061340': 'group C'}, {'_5745035': 91, '_1248019663': 1}], [{'_4210061340': 'group C'}, {'_5745035': 56, '_1248019663': 1}], [{'_4210061340': 'group C'}, {'_5745035': 79, '_1248019663': 1}], [{'_4210061340': 'group C'}, {'_5745035': 80, '_1248019663': 1}], [{'_4210061340': 'group C'}, {'_5745035': 60, '_1248019663': 1}], [{'_4210061340': 'group C'}, {'_5745035': 77, '_1248019663': 1}], [{'_4210061340': 'group C'}, {'_5745035': 83, '_1248019663': 1}], [{'_4210061340': 'group C'}, {'_5745035': 100, '_1248019663': 1}], [{'_4210061340': 'group C'}, {'_5745035': 66, '_1248019663': 1}], [{'_4210061340': 'group C'}, {'_5745035': 59, '_1248019663': 1}], [{'_4210061340': 'group C'}, {'_5745035': 60, '_1248019663': 1}], [{'_4210061340': 'group C'}, {'_5745035': 58, '_1248019663': 1}], [{'_4210061340': 'group C'}, {'_5745035': 46, '_1248019663': 1}], [{'_4210061340': 'group C'}, {'_5745035': 43, '_1248019663': 1}], [{'_4210061340': 'group C'}, {'_5745035': 68, '_1248019663': 1}], [{'_4210061340': 'group C'}, {'_5745035': 73, '_1248019663': 1}], [{'_4210061340': 'group C'}, {'_5745035': 66, '_1248019663': 1}], [{'_4210061340': 'group C'}, {'_5745035': 62, '_1248019663': 1}], [{'_4210061340': 'group C'}, {'_5745035': 38, '_1248019663': 1}], [{'_4210061340': 'group C'}, {'_5745035': 91, '_1248019663': 1}], [{'_4210061340': 'group C'}, {'_5745035': 50, '_1248019663': 1}], [{'_4210061340': 'group C'}, {'_5745035': 52, '_1248019663': 1}], [{'_4210061340': 'group C'}, {'_5745035': 60, '_1248019663': 1}], [{'_4210061340': 'group C'}, {'_5745035': 84, '_1248019663': 1}], [{'_4210061340': 'group C'}, {'_5745035': 59, '_1248019663': 1}], [{'_4210061340': 'group C'}, {'_5745035': 72, '_1248019663': 1}], [{'_4210061340': 'group C'}, {'_5745035': 78, '_1248019663': 1}], [{'_4210061340': 'group C'}, {'_5745035': 95, '_1248019663': 1}], [{'_4210061340': 'group C'}, {'_5745035': 86, '_1248019663': 1}], [{'_4210061340': 'group C'}, {'_5745035': 63, '_1248019663': 1}], [{'_4210061340': 'group C'}, {'_5745035': 50, '_1248019663': 1}], [{'_4210061340': 'group C'}, {'_5745035': 75, '_1248019663': 1}], [{'_4210061340': 'group C'}, {'_5745035': 53, '_1248019663': 1}], [{'_4210061340': 'group C'}, {'_5745035': 78, '_1248019663': 1}], [{'_4210061340': 'group C'}, {'_5745035': 74, '_1248019663': 1}], [{'_4210061340': 'group C'}, {'_5745035': 47, '_1248019663': 1}], [{'_4210061340': 'group C'}, {'_5745035': 84, '_1248019663': 1}], [{'_4210061340': 'group C'}, {'_5745035': 59, '_1248019663': 1}], [{'_4210061340': 'group C'}, {'_5745035': 57, '_1248019663': 1}], [{'_4210061340': 'group C'}, {'_5745035': 67, '_1248019663': 1}], [{'_4210061340': 'group C'}, {'_5745035': 65, '_1248019663': 1}], [{'_4210061340': 'group C'}, {'_5745035': 72, '_1248019663': 1}], [{'_4210061340': 'group C'}, {'_5745035': 66, '_1248019663': 1}], [{'_4210061340': 'group C'}, {'_5745035': 64, '_1248019663': 1}], [{'_4210061340': 'group C'}, {'_5745035': 48, '_1248019663': 1}], [{'_4210061340': 'group C'}, {'_5745035': 68, '_1248019663': 1}], [{'_4210061340': 'group C'}, {'_5745035': 100, '_1248019663': 1}], [{'_4210061340': 'group C'}, {'_5745035': 83, '_1248019663': 1}], [{'_4210061340': 'group C'}, {'_5745035': 89, '_1248019663': 1}], [{'_4210061340': 'group C'}, {'_5745035': 95, '_1248019663': 1}], [{'_4210061340': 'group C'}, {'_5745035': 78, '_1248019663': 1}], [{'_4210061340': 'group C'}, {'_5745035': 81, '_1248019663': 1}], [{'_4210061340': 'group C'}, {'_5745035': 63, '_1248019663': 1}], [{'_4210061340': 'group C'}, {'_5745035': 49, '_1248019663': 1}], [{'_4210061340': 'group C'}, {'_5745035': 47, '_1248019663': 1}], [{'_4210061340': 'group C'}, {'_5745035': 69, '_1248019663': 1}], [{'_4210061340': 'group C'}, {'_5745035': 72, '_1248019663': 1}], [{'_4210061340': 'group C'}, {'_5745035': 73, '_1248019663': 1}], [{'_4210061340': 'group C'}, {'_5745035': 61, '_1248019663': 1}], [{'_4210061340': 'group C'}, {'_5745035': 52, '_1248019663': 1}], [{'_4210061340': 'group C'}, {'_5745035': 71, '_1248019663': 1}], [{'_4210061340': 'group C'}, {'_5745035': 77, '_1248019663': 1}], [{'_4210061340': 'group C'}, {'_5745035': 27, '_1248019663': 1}], [{'_4210061340': 'group C'}, {'_5745035': 64, '_1248019663': 1}], [{'_4210061340': 'group C'}, {'_5745035': 82, '_1248019663': 1}], [{'_4210061340': 'group C'}, {'_5745035': 69, '_1248019663': 1}], [{'_4210061340': 'group C'}, {'_5745035': 39, '_1248019663': 1}], [{'_4210061340': 'group C'}, {'_5745035': 70, '_1248019663': 1}], [{'_4210061340': 'group C'}, {'_5745035': 37, '_1248019663': 1}], [{'_4210061340': 'group C'}, {'_5745035': 74, '_1248019663': 1}], [{'_4210061340': 'group C'}, {'_5745035': 47, '_1248019663': 1}], [{'_4210061340': 'group C'}, {'_5745035': 68, '_1248019663': 1}], [{'_4210061340': 'group C'}, {'_5745035': 89, '_1248019663': 1}], [{'_4210061340': 'group C'}, {'_5745035': 69, '_1248019663': 1}], [{'_4210061340': 'group C'}, {'_5745035': 59, '_1248019663': 1}], [{'_4210061340': 'group C'}, {'_5745035': 64, '_1248019663': 1}], [{'_4210061340': 'group C'}, {'_5745035': 48, '_1248019663': 1}], [{'_4210061340': 'group C'}, {'_5745035': 63, '_1248019663': 1}], [{'_4210061340': 'group C'}, {'_5745035': 67, '_1248019663': 1}], [{'_4210061340': 'group C'}, {'_5745035': 31, '_1248019663': 1}], [{'_4210061340': 'group C'}, {'_5745035': 67, '_1248019663': 1}], [{'_4210061340': 'group C'}, {'_5745035': 44, '_1248019663': 1}], [{'_4210061340': 'group C'}, {'_5745035': 68, '_1248019663': 1}], [{'_4210061340': 'group C'}, {'_5745035': 68, '_1248019663': 1}], [{'_4210061340': 'group C'}, {'_5745035': 73, '_1248019663': 1}], [{'_4210061340': 'group C'}, {'_5745035': 63, '_1248019663': 1}], [{'_4210061340': 'group C'}, {'_5745035': 72, '_1248019663': 1}], [{'_4210061340': 'group C'}, {'_5745035': 71, '_1248019663': 1}], [{'_4210061340': 'group C'}, {'_5745035': 74, '_1248019663': 1}], [{'_4210061340': 'group C'}, {'_5745035': 51, '_1248019663': 1}], [{'_4210061340': 'group C'}, {'_5745035': 71, '_1248019663': 1}], [{'_4210061340': 'group C'}, {'_5745035': 76, '_1248019663': 1}], [{'_4210061340': 'group C'}, {'_5745035': 55, '_1248019663': 1}], [{'_4210061340': 'group C'}, {'_5745035': 51, '_1248019663': 1}], [{'_4210061340': 'group C'}, {'_5745035': 50, '_1248019663': 1}], [{'_4210061340': 'group C'}, {'_5745035': 93, '_1248019663': 1}], [{'_4210061340': 'group C'}, {'_5745035': 63, '_1248019663': 1}], [{'_4210061340': 'group C'}, {'_5745035': 239, '_1248019663': 4}], [{'_4210061340': 'group C'}, {'_5745035': 79, '_1248019663': 1}], [{'_4210061340': 'group C'}, {'_5745035': 48, '_1248019663': 1}], [{'_4210061340': 'group C'}, {'_5745035': 58, '_1248019663': 1}], [{'_4210061340': 'group C'}, {'_5745035': 75, '_1248019663': 1}], [{'_4210061340': 'group C'}, {'_5745035': 63, '_1248019663': 1}], [{'_4210061340': 'group C'}, {'_5745035': 63, '_1248019663': 1}], [{'_4210061340': 'group C'}, {'_5745035': 87, '_1248019663': 1}], [{'_4210061340': 'group C'}, {'_5745035': 72, '_1248019663': 1}], [{'_4210061340': 'group C'}, {'_5745035': 71, '_1248019663': 1}], [{'_4210061340': 'group C'}, {'_5745035': 79, '_1248019663': 1}], [{'_4210061340': 'group C'}, {'_5745035': 64, '_1248019663': 1}], [{'_4210061340': 'group C'}, {'_5745035': 57, '_1248019663': 1}], [{'_4210061340': 'group C'}, {'_5745035': 71, '_1248019663': 1}], [{'_4210061340': 'group C'}, {'_5745035': 81, '_1248019663': 1}], [{'_4210061340': 'group C'}, {'_5745035': 92, '_1248019663': 1}], [{'_4210061340': 'group C'}, {'_5745035': 100, '_1248019663': 1}], [{'_4210061340': 'group C'}, {'_5745035': 57, '_1248019663': 1}], [{'_4210061340': 'group C'}, {'_5745035': 60, '_1248019663': 1}], [{'_4210061340': 'group C'}, {'_5745035': 69, '_1248019663': 1}], [{'_4210061340': 'group C'}, {'_5745035': 66, '_1248019663': 1}], [{'_4210061340': 'group C'}, {'_5745035': 48, '_1248019663': 1}], [{'_4210061340': 'group C'}, {'_5745035': 70, '_1248019663': 1}], [{'_4210061340': 'group C'}, {'_5745035': 51, '_1248019663': 1}], [{'_4210061340': 'group C'}, {'_5745035': 84, '_1248019663': 1}], [{'_4210061340': 'group C'}, {'_5745035': 79, '_1248019663': 1}], [{'_4210061340': 'group C'}, {'_5745035': 82, '_1248019663': 1}], [{'_4210061340': 'group C'}, {'_5745035': 75, '_1248019663': 1}], [{'_4210061340': 'group C'}, {'_5745035': 99, '_1248019663': 1}], [{'_4210061340': 'group C'}, {'_5745035': 51, '_1248019663': 1}], [{'_4210061340': 'group C'}, {'_5745035': 60, '_1248019663': 1}], [{'_4210061340': 'group C'}, {'_5745035': 88, '_1248019663': 1}], [{'_4210061340': 'group C'}, {'_5745035': 55, '_1248019663': 1}], [{'_4210061340': 'group C'}, {'_5745035': 69, '_1248019663': 1}], [{'_4210061340': 'group C'}, {'_5745035': 65, '_1248019663': 1}], [{'_4210061340': 'group C'}, {'_5745035': 52, '_1248019663': 1}], [{'_4210061340': 'group C'}, {'_5745035': 55, '_1248019663': 1}], [{'_4210061340': 'group C'}, {'_5745035': 65, '_1248019663': 1}], [{'_4210061340': 'group C'}, {'_5745035': 78, '_1248019663': 1}], [{'_4210061340': 'group C'}, {'_5745035': 59, '_1248019663': 1}], [{'_4210061340': 'group C'}, {'_5745035': 51, '_1248019663': 1}], [{'_4210061340': 'group C'}, {'_5745035': 52, '_1248019663': 1}], [{'_4210061340': 'group C'}, {'_5745035': 42, '_1248019663': 1}], [{'_4210061340': 'group C'}, {'_5745035': 38, '_1248019663': 1}], [{'_4210061340': 'group C'}, {'_5745035': 85, '_1248019663': 1}], [{'_4210061340': 'group C'}, {'_5745035': 76, '_1248019663': 1}], [{'_4210061340': 'group C'}, {'_5745035': 86, '_1248019663': 1}], [{'_4210061340': 'group C'}, {'_5745035': 53, '_1248019663': 1}], [{'_4210061340': 'group C'}, {'_5745035': 76, '_1248019663': 1}], [{'_4210061340': 'group C'}, {'_5745035': 89, '_1248019663': 1}], [{'_4210061340': 'group C'}, {'_5745035': 59, '_1248019663': 1}], [{'_4210061340': 'group C'}, {'_5745035': 79, '_1248019663': 1}], [{'_4210061340': 'group C'}, {'_5745035': 76, '_1248019663': 1}], [{'_4210061340': 'group C'}, {'_5745035': 99, '_1248019663': 1}], [{'_4210061340': 'group C'}, {'_5745035': 43, '_1248019663': 1}], [{'_4210061340': 'group C'}, {'_5745035': 72, '_1248019663': 1}], [{'_4210061340': 'group C'}, {'_5745035': 85, '_1248019663': 1}], [{'_4210061340': 'group C'}, {'_5745035': 78, '_1248019663': 1}], [{'_4210061340': 'group C'}, {'_5745035': 79, '_1248019663': 1}], [{'_4210061340': 'group C'}, {'_5745035': 43, '_1248019663': 1}], [{'_4210061340': 'group C'}, {'_5745035': 73, '_1248019663': 1}], [{'_4210061340': 'group C'}, {'_5745035': 85, '_1248019663': 1}], [{'_4210061340': 'group C'}, {'_5745035': 73, '_1248019663': 1}], [{'_4210061340': 'group C'}, {'_5745035': 51, '_1248019663': 1}], [{'_4210061340': 'group C'}, {'_5745035': 63, '_1248019663': 1}], [{'_4210061340': 'group C'}, {'_5745035': 67, '_1248019663': 1}], [{'_4210061340': 'group C'}, {'_5745035': 73, '_1248019663': 1}], [{'_4210061340': 'group C'}, {'_5745035': 44, '_1248019663': 1}], [{'_4210061340': 'group C'}, {'_5745035': 55, '_1248019663': 1}], [{'_4210061340': 'group C'}, {'_5745035': 69, '_1248019663': 1}], [{'_4210061340': 'group C'}, {'_5745035': 47, '_1248019663': 1}], [{'_4210061340': 'group C'}, {'_5745035': 85, '_1248019663': 1}], [{'_4210061340': 'group C'}, {'_5745035': 56, '_1248019663': 1}], [{'_4210061340': 'group C'}, {'_5745035': 75, '_1248019663': 1}], [{'_4210061340': 'group C'}, {'_5745035': 52, '_1248019663': 1}], [{'_4210061340': 'group C'}, {'_5745035': 76, '_1248019663': 1}], [{'_4210061340': 'group C'}, {'_5745035': 38, '_1248019663': 1}], [{'_4210061340': 'group C'}, {'_5745035': 100, '_1248019663': 1}], [{'_4210061340': 'group C'}, {'_5745035': 64, '_1248019663': 1}], [{'_4210061340': 'group C'}, {'_5745035': 52, '_1248019663': 1}], [{'_4210061340': 'group C'}, {'_5745035': 74, '_1248019663': 1}], [{'_4210061340': 'group C'}, {'_5745035': 63, '_1248019663': 1}], [{'_4210061340': 'group C'}, {'_5745035': 74, '_1248019663': 1}], [{'_4210061340': 'group C'}, {'_5745035': 83, '_1248019663': 1}], [{'_4210061340': 'group C'}, {'_5745035': 52, '_1248019663': 1}], [{'_4210061340': 'group C'}, {'_5745035': 70, '_1248019663': 1}], [{'_4210061340': 'group C'}, {'_5745035': 39, '_1248019663': 1}], [{'_4210061340': 'group C'}, {'_5745035': 45, '_1248019663': 1}], [{'_4210061340': 'group C'}, {'_5745035': 46, '_1248019663': 1}], [{'_4210061340': 'group C'}, {'_5745035': 70, '_1248019663': 1}], [{'_4210061340': 'group C'}, {'_5745035': 61, '_1248019663': 1}], [{'_4210061340': 'group C'}, {'_5745035': 60, '_1248019663': 1}], [{'_4210061340': 'group C'}, {'_5745035': 72, '_1248019663': 1}], [{'_4210061340': 'group C'}, {'_5745035': 61, '_1248019663': 1}], [{'_4210061340': 'group C'}, {'_5745035': 74, '_1248019663': 1}], [{'_4210061340': 'group C'}, {'_5745035': 73, '_1248019663': 1}], [{'_4210061340': 'group C'}, {'_5745035': 59, '_1248019663': 1}], [{'_4210061340': 'group C'}, {'_5745035': 29, '_1248019663': 1}], [{'_4210061340': 'group C'}, {'_5745035': 56, '_1248019663': 1}], [{'_4210061340': 'group C'}, {'_5745035': 62, '_1248019663': 1}], [{'_4210061340': 'group C'}, {'_5745035': 80, '_1248019663': 1}], [{'_4210061340': 'group C'}, {'_5745035': 61, '_1248019663': 1}], [{'_4210061340': 'group C'}, {'_5745035': 87, '_1248019663': 1}], [{'_4210061340': 'group C'}, {'_5745035': 65, '_1248019663': 1}], [{'_4210061340': 'group C'}, {'_5745035': 64, '_1248019663': 1}], [{'_4210061340': 'group C'}, {'_5745035': 61, '_1248019663': 1}], [{'_4210061340': 'group C'}, {'_5745035': 71, '_1248019663': 1}], [{'_4210061340': 'group C'}, {'_5745035': 53, '_1248019663': 1}], [{'_4210061340': 'group C'}, {'_5745035': 74, '_1248019663': 1}], [{'_4210061340': 'group C'}, {'_5745035': 62, '_1248019663': 1}], [{'_4210061340': 'group C'}, {'_5745035': 53, '_1248019663': 1}], [{'_4210061340': 'group C'}, {'_5745035': 68, '_1248019663': 1}], [{'_4210061340': 'group C'}, {'_5745035': 76, '_1248019663': 1}], [{'_4210061340': 'group C'}, {'_5745035': 43, '_1248019663': 1}], [{'_4210061340': 'group C'}, {'_5745035': 54, '_1248019663': 1}], [{'_4210061340': 'group C'}, {'_5745035': 90, '_1248019663': 1}], [{'_4210061340': 'group C'}, {'_5745035': 69, '_1248019663': 1}], [{'_4210061340': 'group C'}, {'_5745035': 65, '_1248019663': 1}], [{'_4210061340': 'group C'}, {'_5745035': 58, '_1248019663': 1}], [{'_4210061340': 'group C'}, {'_5745035': 83, '_1248019663': 1}], [{'_4210061340': 'group C'}, {'_5745035': 83, '_1248019663': 1}], [{'_4210061340': 'group C'}, {'_5745035': 67, '_1248019663': 1}], [{'_4210061340': 'group C'}, {'_5745035': 87, '_1248019663': 1}], [{'_4210061340': 'group C'}, {'_5745035': 68, '_1248019663': 1}], [{'_4210061340': 'group C'}, {'_5745035': 48, '_1248019663': 1}], [{'_4210061340': 'group C'}, {'_5745035': 57, '_1248019663': 1}], [{'_4210061340': 'group C'}, {'_5745035': 80, '_1248019663': 1}], [{'_4210061340': 'group C'}, {'_5745035': 61, '_1248019663': 1}], [{'_4210061340': 'group C'}, {'_5745035': 68, '_1248019663': 1}], [{'_4210061340': 'group C'}, {'_5745035': 62, '_1248019663': 1}], [{'_4210061340': 'group C'}, {'_5745035': 83, '_1248019663': 1}], [{'_4210061340': 'group C'}, {'_5745035': 60, '_1248019663': 1}], [{'_4210061340': 'group C'}, {'_5745035': 74, '_1248019663': 1}], [{'_4210061340': 'group C'}, {'_5745035': 71, '_1248019663': 1}], [{'_4210061340': 'group C'}, {'_5745035': 48, '_1248019663': 1}], [{'_4210061340': 'group C'}, {'_5745035': 80, '_1248019663': 1}], [{'_4210061340': 'group C'}, {'_5745035': 72, '_1248019663': 1}], [{'_4210061340': 'group C'}, {'_5745035': 73, '_1248019663': 1}], [{'_4210061340': 'group C'}, {'_5745035': 46, '_1248019663': 1}], [{'_4210061340': 'group C'}, {'_5745035': 61, '_1248019663': 1}], [{'_4210061340': 'group C'}, {'_5745035': 54, '_1248019663': 1}], [{'_4210061340': 'group C'}, {'_5745035': 52, '_1248019663': 1}], [{'_4210061340': 'group C'}, {'_5745035': 74, '_1248019663': 1}], [{'_4210061340': 'group C'}, {'_5745035': 65, '_1248019663': 1}], [{'_4210061340': 'group C'}, {'_5745035': 75, '_1248019663': 1}], [{'_4210061340': 'group C'}, {'_5745035': 68, '_1248019663': 1}], [{'_4210061340': 'group C'}, {'_5745035': 91, '_1248019663': 1}], [{'_4210061340': 'group C'}, {'_5745035': 74, '_1248019663': 1}], [{'_4210061340': 'group C'}, {'_5745035': 44, '_1248019663': 1}], [{'_4210061340': 'group C'}, {'_5745035': 90, '_1248019663': 1}], [{'_4210061340': 'group C'}, {'_5745035': 83, '_1248019663': 1}], [{'_4210061340': 'group C'}, {'_5745035': 69, '_1248019663': 1}], [{'_4210061340': 'group C'}, {'_5745035': 61, '_1248019663': 1}], [{'_4210061340': 'group C'}, {'_5745035': 66, '_1248019663': 1}], [{'_4210061340': 'group C'}, {'_5745035': 75, '_1248019663': 1}], [{'_4210061340': 'group C'}, {'_5745035': 78, '_1248019663': 1}], [{'_4210061340': 'group C'}, {'_5745035': 64, '_1248019663': 1}], [{'_4210061340': 'group C'}, {'_5745035': 64, '_1248019663': 1}], [{'_4210061340': 'group C'}, {'_5745035': 91, '_1248019663': 1}], [{'_4210061340': 'group C'}, {'_5745035': 100, '_1248019663': 1}], [{'_4210061340': 'group C'}, {'_5745035': 85, '_1248019663': 1}], [{'_4210061340': 'group C'}, {'_5745035': 83, '_1248019663': 1}], [{'_4210061340': 'group C'}, {'_5745035': 52, '_1248019663': 1}], [{'_4210061340': 'group C'}, {'_5745035': 56, '_1248019663': 1}], [{'_4210061340': 'group C'}, {'_5745035': 66, '_1248019663': 1}], [{'_4210061340': 'group C'}, {'_5745035': 90, '_1248019663': 1}], [{'_4210061340': 'group C'}, {'_5745035': 92, '_1248019663': 1}], [{'_4210061340': 'group C'}, {'_5745035': 44, '_1248019663': 1}], [{'_4210061340': 'group C'}, {'_5745035': 63, '_1248019663': 1}], [{'_4210061340': 'group C'}, {'_5745035': 67, '_1248019663': 1}], [{'_4210061340': 'group C'}, {'_5745035': 78, '_1248019663': 1}], [{'_4210061340': 'group C'}, {'_5745035': 72, '_1248019663': 1}], [{'_4210061340': 'group C'}, {'_5745035': 78, '_1248019663': 1}], [{'_4210061340': 'group C'}, {'_5745035': 70, '_1248019663': 1}], [{'_4210061340': 'group C'}, {'_5745035': 52, '_1248019663': 1}], [{'_4210061340': 'group C'}, {'_5745035': 54, '_1248019663': 1}], [{'_4210061340': 'group C'}, {'_5745035': 43, '_1248019663': 1}], [{'_4210061340': 'group C'}, {'_5745035': 53, '_1248019663': 1}], [{'_4210061340': 'group C'}, {'_5745035': 71, '_1248019663': 1}], [{'_4210061340': 'group C'}, {'_5745035': 57, '_1248019663': 1}], [{'_4210061340': 'group C'}, {'_5745035': 82, '_1248019663': 1}], [{'_4210061340': 'group C'}, {'_5745035': 88, '_1248019663': 1}], [{'_4210061340': 'group C'}, {'_5745035': 33, '_1248019663': 1}], [{'_4210061340': 'group C'}, {'_5745035': 78, '_1248019663': 1}], [{'_4210061340': 'group C'}, {'_5745035': 61, '_1248019663': 1}], [{'_4210061340': 'group C'}, {'_5745035': 63, '_1248019663': 1}], [{'_4210061340': 'group C'}, {'_5745035': 47, '_1248019663': 1}], [{'_4210061340': 'group C'}, {'_5745035': 76, '_1248019663': 1}], [{'_4210061340': 'group C'}, {'_5745035': 71, '_1248019663': 1}], [{'_4210061340': 'group C'}, {'_5745035': 59, '_1248019663': 1}], [{'_4210061340': 'group C'}, {'_5745035': 73, '_1248019663': 1}], [{'_4210061340': 'group C'}, {'_5745035': 63, '_1248019663': 1}], [{'_4210061340': 'group C'}, {'_5745035': 77, '_1248019663': 1}], [{'_4210061340': 'group C'}, {'_5745035': 76, '_1248019663': 1}], [{'_4210061340': 'group C'}, {'_5745035': 52, '_1248019663': 1}], [{'_4210061340': 'group C'}, {'_5745035': 68, '_1248019663': 1}], [{'_4210061340': 'group C'}, {'_5745035': 64, '_1248019663': 1}], [{'_4210061340': 'group C'}, {'_5745035': 60, '_1248019663': 1}], [{'_4210061340': 'group C'}, {'_5745035': 74, '_1248019663': 1}], [{'_4210061340': 'group C'}, {'_5745035': 80, '_1248019663': 1}], [{'_4210061340': 'group C'}, {'_5745035': 60, '_1248019663': 1}], [{'_4210061340': 'group C'}, {'_5745035': 53, '_1248019663': 1}], [{'_4210061340': 'group C'}, {'_5745035': 81, '_1248019663': 1}], [{'_4210061340': 'group C'}, {'_5745035': 58, '_1248019663': 1}], [{'_4210061340': 'group C'}, {'_5745035': 63, '_1248019663': 1}], [{'_4210061340': 'group C'}, {'_5745035': 63, '_1248019663': 1}], [{'_4210061340': 'group C'}, {'_5745035': 46, '_1248019663': 1}], [{'_4210061340': 'group C'}, {'_5745035': 70, '_1248019663': 1}], [{'_4210061340': 'group C'}, {'_5745035': 77, '_1248019663': 1}], [{'_4210061340': 'group C'}, {'_5745035': 60, '_1248019663': 1}], [{'_4210061340': 'group C'}, {'_5745035': 52, '_1248019663': 1}], [{'_4210061340': 'group C'}, {'_5745035': 76, '_1248019663': 1}], [{'_4210061340': 'group C'}, {'_5745035': 32, '_1248019663': 1}], [{'_4210061340': 'group C'}, {'_5745035': 44, '_1248019663': 1}], [{'_4210061340': 'group C'}, {'_5745035': 62, '_1248019663': 1}], [{'_4210061340': 'group C'}, {'_5745035': 74, '_1248019663': 1}], [{'_4210061340': 'group C'}, {'_5745035': 42, '_1248019663': 1}], [{'_4210061340': 'group D'}, {'_5745035': 56, '_1248019663': 1}], [{'_4210061340': 'group D'}, {'_5745035': 71, '_1248019663': 1}], [{'_4210061340': 'group D'}, {'_5745035': 69, '_1248019663': 1}], [{'_4210061340': 'group D'}, {'_5745035': 68, '_1248019663': 1}], [{'_4210061340': 'group D'}, {'_5745035': 63, '_1248019663': 1}], [{'_4210061340': 'group D'}, {'_5745035': 57, '_1248019663': 1}], [{'_4210061340': 'group D'}, {'_5745035': 80, '_1248019663': 1}], [{'_4210061340': 'group D'}, {'_5745035': 70, '_1248019663': 1}], [{'_4210061340': 'group D'}, {'_5745035': 74, '_1248019663': 1}], [{'_4210061340': 'group D'}, {'_5745035': 85, '_1248019663': 1}], [{'_4210061340': 'group D'}, {'_5745035': 47, '_1248019663': 1}], [{'_4210061340': 'group D'}, {'_5745035': 64, '_1248019663': 1}], [{'_4210061340': 'group D'}, {'_5745035': 92, '_1248019663': 1}], [{'_4210061340': 'group D'}, {'_5745035': 73, '_1248019663': 1}], [{'_4210061340': 'group D'}, {'_5745035': 80, '_1248019663': 1}], [{'_4210061340': 'group D'}, {'_5745035': 87, '_1248019663': 1}], [{'_4210061340': 'group D'}, {'_5745035': 72, '_1248019663': 1}], [{'_4210061340': 'group D'}, {'_5745035': 73, '_1248019663': 1}], [{'_4210061340': 'group D'}, {'_5745035': 85, '_1248019663': 1}], [{'_4210061340': 'group D'}, {'_5745035': 71, '_1248019663': 1}], [{'_4210061340': 'group D'}, {'_5745035': 56, '_1248019663': 1}], [{'_4210061340': 'group D'}, {'_5745035': 68, '_1248019663': 1}], [{'_4210061340': 'group D'}, {'_5745035': 76, '_1248019663': 1}], [{'_4210061340': 'group D'}, {'_5745035': 53, '_1248019663': 1}], [{'_4210061340': 'group D'}, {'_5745035': 46, '_1248019663': 1}], [{'_4210061340': 'group D'}, {'_5745035': 95, '_1248019663': 1}], [{'_4210061340': 'group D'}, {'_5745035': 79, '_1248019663': 1}], [{'_4210061340': 'group D'}, {'_5745035': 79, '_1248019663': 1}], [{'_4210061340': 'group D'}, {'_5745035': 54, '_1248019663': 1}], [{'_4210061340': 'group D'}, {'_5745035': 69, '_1248019663': 1}], [{'_4210061340': 'group D'}, {'_5745035': 97, '_1248019663': 1}], [{'_4210061340': 'group D'}, {'_5745035': 71, '_1248019663': 1}], [{'_4210061340': 'group D'}, {'_5745035': 93, '_1248019663': 1}], [{'_4210061340': 'group D'}, {'_5745035': 83, '_1248019663': 1}], [{'_4210061340': 'group D'}, {'_5745035': 72, '_1248019663': 1}], [{'_4210061340': 'group D'}, {'_5745035': 73, '_1248019663': 1}], [{'_4210061340': 'group D'}, {'_5745035': 93, '_1248019663': 1}], [{'_4210061340': 'group D'}, {'_5745035': 64, '_1248019663': 1}], [{'_4210061340': 'group D'}, {'_5745035': 47, '_1248019663': 1}], [{'_4210061340': 'group D'}, {'_5745035': 82, '_1248019663': 1}], [{'_4210061340': 'group D'}, {'_5745035': 77, '_1248019663': 1}], [{'_4210061340': 'group D'}, {'_5745035': 100, '_1248019663': 1}], [{'_4210061340': 'group D'}, {'_5745035': 84, '_1248019663': 1}], [{'_4210061340': 'group D'}, {'_5745035': 77, '_1248019663': 1}], [{'_4210061340': 'group D'}, {'_5745035': 70, '_1248019663': 1}], [{'_4210061340': 'group D'}, {'_5745035': 85, '_1248019663': 1}], [{'_4210061340': 'group D'}, {'_5745035': 71, '_1248019663': 1}], [{'_4210061340': 'group D'}, {'_5745035': 68, '_1248019663': 1}], [{'_4210061340': 'group D'}, {'_5745035': 77, '_1248019663': 1}], [{'_4210061340': 'group D'}, {'_5745035': 45, '_1248019663': 1}], [{'_4210061340': 'group D'}, {'_5745035': 65, '_1248019663': 1}], [{'_4210061340': 'group D'}, {'_5745035': 70, '_1248019663': 1}], [{'_4210061340': 'group D'}, {'_5745035': 84, '_1248019663': 1}], [{'_4210061340': 'group D'}, {'_5745035': 49, '_1248019663': 1}], [{'_4210061340': 'group D'}, {'_5745035': 80, '_1248019663': 1}], [{'_4210061340': 'group D'}, {'_5745035': 56, '_1248019663': 1}], [{'_4210061340': 'group D'}, {'_5745035': 69, '_1248019663': 1}], [{'_4210061340': 'group D'}, {'_5745035': 84, '_1248019663': 1}], [{'_4210061340': 'group D'}, {'_5745035': 95, '_1248019663': 1}], [{'_4210061340': 'group D'}, {'_5745035': 37, '_1248019663': 1}], [{'_4210061340': 'group D'}, {'_5745035': 70, '_1248019663': 1}], [{'_4210061340': 'group D'}, {'_5745035': 62, '_1248019663': 1}], [{'_4210061340': 'group D'}, {'_5745035': 100, '_1248019663': 1}], [{'_4210061340': 'group D'}, {'_5745035': 66, '_1248019663': 1}], [{'_4210061340': 'group D'}, {'_5745035': 43, '_1248019663': 1}], [{'_4210061340': 'group D'}, {'_5745035': 64, '_1248019663': 1}], [{'_4210061340': 'group D'}, {'_5745035': 62, '_1248019663': 1}], [{'_4210061340': 'group D'}, {'_5745035': 84, '_1248019663': 1}], [{'_4210061340': 'group D'}, {'_5745035': 70, '_1248019663': 1}], [{'_4210061340': 'group D'}, {'_5745035': 82, '_1248019663': 1}], [{'_4210061340': 'group D'}, {'_5745035': 60, '_1248019663': 1}], [{'_4210061340': 'group D'}, {'_5745035': 44, '_1248019663': 1}], [{'_4210061340': 'group D'}, {'_5745035': 57, '_1248019663': 1}], [{'_4210061340': 'group D'}, {'_5745035': 71, '_1248019663': 1}], [{'_4210061340': 'group D'}, {'_5745035': 39, '_1248019663': 1}], [{'_4210061340': 'group D'}, {'_5745035': 61, '_1248019663': 1}], [{'_4210061340': 'group D'}, {'_5745035': 66, '_1248019663': 1}], [{'_4210061340': 'group D'}, {'_5745035': 62, '_1248019663': 1}], [{'_4210061340': 'group D'}, {'_5745035': 64, '_1248019663': 1}], [{'_4210061340': 'group D'}, {'_5745035': 62, '_1248019663': 1}], [{'_4210061340': 'group D'}, {'_5745035': 72, '_1248019663': 1}], [{'_4210061340': 'group D'}, {'_5745035': 55, '_1248019663': 1}], [{'_4210061340': 'group D'}, {'_5745035': 55, '_1248019663': 1}], [{'_4210061340': 'group D'}, {'_5745035': 83, '_1248019663': 1}], [{'_4210061340': 'group D'}, {'_5745035': 100, '_1248019663': 1}], [{'_4210061340': 'group D'}, {'_5745035': 60, '_1248019663': 1}], [{'_4210061340': 'group D'}, {'_5745035': 55, '_1248019663': 1}], [{'_4210061340': 'group D'}, {'_5745035': 91, '_1248019663': 1}], [{'_4210061340': 'group D'}, {'_5745035': 71, '_1248019663': 1}], [{'_4210061340': 'group D'}, {'_5745035': 61, '_1248019663': 1}], [{'_4210061340': 'group D'}, {'_5745035': 84, '_1248019663': 1}], [{'_4210061340': 'group D'}, {'_5745035': 59, '_1248019663': 1}], [{'_4210061340': 'group D'}, {'_5745035': 76, '_1248019663': 1}], [{'_4210061340': 'group D'}, {'_5745035': 70, '_1248019663': 1}], [{'_4210061340': 'group D'}, {'_5745035': 60, '_1248019663': 1}], [{'_4210061340': 'group D'}, {'_5745035': 62, '_1248019663': 1}], [{'_4210061340': 'group D'}, {'_5745035': 75, '_1248019663': 1}], [{'_4210061340': 'group D'}, {'_5745035': 61, '_1248019663': 1}], [{'_4210061340': 'group D'}, {'_5745035': 44, '_1248019663': 1}], [{'_4210061340': 'group D'}, {'_5745035': 77, '_1248019663': 1}], [{'_4210061340': 'group D'}, {'_5745035': 66, '_1248019663': 1}], [{'_4210061340': 'group D'}, {'_5745035': 84, '_1248019663': 1}], [{'_4210061340': 'group D'}, {'_5745035': 84, '_1248019663': 1}], [{'_4210061340': 'group D'}, {'_5745035': 85, '_1248019663': 1}], [{'_4210061340': 'group D'}, {'_5745035': 97, '_1248019663': 1}], [{'_4210061340': 'group D'}, {'_5745035': 94, '_1248019663': 1}], [{'_4210061340': 'group D'}, {'_5745035': 72, '_1248019663': 1}], [{'_4210061340': 'group D'}, {'_5745035': 75, '_1248019663': 1}], [{'_4210061340': 'group D'}, {'_5745035': 81, '_1248019663': 1}], [{'_4210061340': 'group D'}, {'_5745035': 70, '_1248019663': 1}], [{'_4210061340': 'group D'}, {'_5745035': 36, '_1248019663': 1}], [{'_4210061340': 'group D'}, {'_5745035': 66, '_1248019663': 1}], [{'_4210061340': 'group D'}, {'_5745035': 63, '_1248019663': 1}], [{'_4210061340': 'group D'}, {'_5745035': 78, '_1248019663': 1}], [{'_4210061340': 'group D'}, {'_5745035': 56, '_1248019663': 1}], [{'_4210061340': 'group D'}, {'_5745035': 95, '_1248019663': 1}], [{'_4210061340': 'group D'}, {'_5745035': 64, '_1248019663': 1}], [{'_4210061340': 'group D'}, {'_5745035': 62, '_1248019663': 1}], [{'_4210061340': 'group D'}, {'_5745035': 72, '_1248019663': 1}], [{'_4210061340': 'group D'}, {'_5745035': 71, '_1248019663': 1}], [{'_4210061340': 'group D'}, {'_5745035': 84, '_1248019663': 1}], [{'_4210061340': 'group D'}, {'_5745035': 90, '_1248019663': 1}], [{'_4210061340': 'group D'}, {'_5745035': 68, '_1248019663': 1}], [{'_4210061340': 'group D'}, {'_5745035': 75, '_1248019663': 1}], [{'_4210061340': 'group D'}, {'_5745035': 62, '_1248019663': 1}], [{'_4210061340': 'group D'}, {'_5745035': 84, '_1248019663': 1}], [{'_4210061340': 'group D'}, {'_5745035': 72, '_1248019663': 1}], [{'_4210061340': 'group D'}, {'_5745035': 87, '_1248019663': 1}], [{'_4210061340': 'group D'}, {'_5745035': 81, '_1248019663': 1}], [{'_4210061340': 'group D'}, {'_5745035': 60, '_1248019663': 1}], [{'_4210061340': 'group D'}, {'_5745035': 83, '_1248019663': 1}], [{'_4210061340': 'group D'}, {'_5745035': 65, '_1248019663': 1}], [{'_4210061340': 'group D'}, {'_5745035': 63, '_1248019663': 1}], [{'_4210061340': 'group D'}, {'_5745035': 88, '_1248019663': 1}], [{'_4210061340': 'group D'}, {'_5745035': 84, '_1248019663': 1}], [{'_4210061340': 'group D'}, {'_5745035': 59, '_1248019663': 1}], [{'_4210061340': 'group D'}, {'_5745035': 93, '_1248019663': 1}], [{'_4210061340': 'group D'}, {'_5745035': 90, '_1248019663': 1}], [{'_4210061340': 'group D'}, {'_5745035': 91, '_1248019663': 1}], [{'_4210061340': 'group D'}, {'_5745035': 75, '_1248019663': 1}], [{'_4210061340': 'group D'}, {'_5745035': 94, '_1248019663': 1}], [{'_4210061340': 'group D'}, {'_5745035': 62, '_1248019663': 1}], [{'_4210061340': 'group D'}, {'_5745035': 72, '_1248019663': 1}], [{'_4210061340': 'group D'}, {'_5745035': 86, '_1248019663': 1}], [{'_4210061340': 'group D'}, {'_5745035': 88, '_1248019663': 1}], [{'_4210061340': 'group D'}, {'_5745035': 85, '_1248019663': 1}], [{'_4210061340': 'group D'}, {'_5745035': 73, '_1248019663': 1}], [{'_4210061340': 'group D'}, {'_5745035': 71, '_1248019663': 1}], [{'_4210061340': 'group D'}, {'_5745035': 62, '_1248019663': 1}], [{'_4210061340': 'group D'}, {'_5745035': 75, '_1248019663': 1}], [{'_4210061340': 'group D'}, {'_5745035': 92, '_1248019663': 1}], [{'_4210061340': 'group D'}, {'_5745035': 100, '_1248019663': 1}], [{'_4210061340': 'group D'}, {'_5745035': 58, '_1248019663': 1}], [{'_4210061340': 'group D'}, {'_5745035': 57, '_1248019663': 1}], [{'_4210061340': 'group D'}, {'_5745035': 86, '_1248019663': 1}], [{'_4210061340': 'group D'}, {'_5745035': 86, '_1248019663': 1}], [{'_4210061340': 'group D'}, {'_5745035': 83, '_1248019663': 1}], [{'_4210061340': 'group D'}, {'_5745035': 90, '_1248019663': 1}], [{'_4210061340': 'group D'}, {'_5745035': 72, '_1248019663': 1}], [{'_4210061340': 'group D'}, {'_5745035': 64, '_1248019663': 1}], [{'_4210061340': 'group D'}, {'_5745035': 52, '_1248019663': 1}], [{'_4210061340': 'group D'}, {'_5745035': 75, '_1248019663': 1}], [{'_4210061340': 'group D'}, {'_5745035': 71, '_1248019663': 1}], [{'_4210061340': 'group D'}, {'_5745035': 78, '_1248019663': 1}], [{'_4210061340': 'group D'}, {'_5745035': 60, '_1248019663': 1}], [{'_4210061340': 'group D'}, {'_5745035': 70, '_1248019663': 1}], [{'_4210061340': 'group D'}, {'_5745035': 68, '_1248019663': 1}], [{'_4210061340': 'group D'}, {'_5745035': 83, '_1248019663': 1}], [{'_4210061340': 'group D'}, {'_5745035': 63, '_1248019663': 1}], [{'_4210061340': 'group D'}, {'_5745035': 60, '_1248019663': 1}], [{'_4210061340': 'group D'}, {'_5745035': 83, '_1248019663': 1}], [{'_4210061340': 'group D'}, {'_5745035': 85, '_1248019663': 1}], [{'_4210061340': 'group D'}, {'_5745035': 86, '_1248019663': 1}], [{'_4210061340': 'group D'}, {'_5745035': 69, '_1248019663': 1}], [{'_4210061340': 'group D'}, {'_5745035': 81, '_1248019663': 1}], [{'_4210061340': 'group D'}, {'_5745035': 63, '_1248019663': 1}], [{'_4210061340': 'group D'}, {'_5745035': 43, '_1248019663': 1}], [{'_4210061340': 'group D'}, {'_5745035': 47, '_1248019663': 1}], [{'_4210061340': 'group D'}, {'_5745035': 75, '_1248019663': 1}], [{'_4210061340': 'group D'}, {'_5745035': 71, '_1248019663': 1}], [{'_4210061340': 'group D'}, {'_5745035': 89, '_1248019663': 1}], [{'_4210061340': 'group D'}, {'_5745035': 42, '_1248019663': 1}], [{'_4210061340': 'group D'}, {'_5745035': 81, '_1248019663': 1}], [{'_4210061340': 'group D'}, {'_5745035': 73, '_1248019663': 1}], [{'_4210061340': 'group D'}, {'_5745035': 72, '_1248019663': 1}], [{'_4210061340': 'group D'}, {'_5745035': 69, '_1248019663': 1}], [{'_4210061340': 'group D'}, {'_5745035': 76, '_1248019663': 1}], [{'_4210061340': 'group D'}, {'_5745035': 71, '_1248019663': 1}], [{'_4210061340': 'group D'}, {'_5745035': 82, '_1248019663': 1}], [{'_4210061340': 'group D'}, {'_5745035': 66, '_1248019663': 1}], [{'_4210061340': 'group D'}, {'_5745035': 56, '_1248019663': 1}], [{'_4210061340': 'group D'}, {'_5745035': 87, '_1248019663': 1}], [{'_4210061340': 'group D'}, {'_5745035': 66, '_1248019663': 1}], [{'_4210061340': 'group D'}, {'_5745035': 63, '_1248019663': 1}], [{'_4210061340': 'group D'}, {'_5745035': 70, '_1248019663': 1}], [{'_4210061340': 'group D'}, {'_5745035': 83, '_1248019663': 1}], [{'_4210061340': 'group D'}, {'_5745035': 71, '_1248019663': 1}], [{'_4210061340': 'group D'}, {'_5745035': 64, '_1248019663': 1}], [{'_4210061340': 'group D'}, {'_5745035': 76, '_1248019663': 1}], [{'_4210061340': 'group D'}, {'_5745035': 84, '_1248019663': 1}], [{'_4210061340': 'group D'}, {'_5745035': 95, '_1248019663': 1}], [{'_4210061340': 'group D'}, {'_5745035': 80, '_1248019663': 1}], [{'_4210061340': 'group D'}, {'_5745035': 71, '_1248019663': 1}], [{'_4210061340': 'group D'}, {'_5745035': 36, '_1248019663': 1}], [{'_4210061340': 'group D'}, {'_5745035': 69, '_1248019663': 1}], [{'_4210061340': 'group D'}, {'_5745035': 94, '_1248019663': 1}], [{'_4210061340': 'group D'}, {'_5745035': 77, '_1248019663': 1}], [{'_4210061340': 'group D'}, {'_5745035': 90, '_1248019663': 1}], [{'_4210061340': 'group D'}, {'_5745035': 81, '_1248019663': 1}], [{'_4210061340': 'group D'}, {'_5745035': 88, '_1248019663': 1}], [{'_4210061340': 'group D'}, {'_5745035': 69, '_1248019663': 1}], [{'_4210061340': 'group D'}, {'_5745035': 83, '_1248019663': 1}], [{'_4210061340': 'group D'}, {'_5745035': 63, '_1248019663': 1}], [{'_4210061340': 'group D'}, {'_5745035': 63, '_1248019663': 1}], [{'_4210061340': 'group D'}, {'_5745035': 46, '_1248019663': 1}], [{'_4210061340': 'group D'}, {'_5745035': 49, '_1248019663': 1}], [{'_4210061340': 'group D'}, {'_5745035': 65, '_1248019663': 1}], [{'_4210061340': 'group D'}, {'_5745035': 62, '_1248019663': 1}], [{'_4210061340': 'group D'}, {'_5745035': 87, '_1248019663': 1}], [{'_4210061340': 'group D'}, {'_5745035': 93, '_1248019663': 1}], [{'_4210061340': 'group D'}, {'_5745035': 56, '_1248019663': 1}], [{'_4210061340': 'group D'}, {'_5745035': 71, '_1248019663': 1}], [{'_4210061340': 'group D'}, {'_5745035': 87, '_1248019663': 1}], [{'_4210061340': 'group D'}, {'_5745035': 63, '_1248019663': 1}], [{'_4210061340': 'group D'}, {'_5745035': 98, '_1248019663': 1}], [{'_4210061340': 'group D'}, {'_5745035': 95, '_1248019663': 1}], [{'_4210061340': 'group D'}, {'_5745035': 66, '_1248019663': 1}], [{'_4210061340': 'group D'}, {'_5745035': 83, '_1248019663': 1}], [{'_4210061340': 'group D'}, {'_5745035': 77, '_1248019663': 1}], [{'_4210061340': 'group D'}, {'_5745035': 44, '_1248019663': 1}], [{'_4210061340': 'group D'}, {'_5745035': 55, '_1248019663': 1}], [{'_4210061340': 'group D'}, {'_5745035': 95, '_1248019663': 1}], [{'_4210061340': 'group D'}, {'_5745035': 71, '_1248019663': 1}], [{'_4210061340': 'group D'}, {'_5745035': 78, '_1248019663': 1}], [{'_4210061340': 'group D'}, {'_5745035': 87, '_1248019663': 1}], [{'_4210061340': 'group D'}, {'_5745035': 90, '_1248019663': 1}], [{'_4210061340': 'group D'}, {'_5745035': 76, '_1248019663': 1}], [{'_4210061340': 'group D'}, {'_5745035': 52, '_1248019663': 1}], [{'_4210061340': 'group D'}, {'_5745035': 74, '_1248019663': 1}], [{'_4210061340': 'group D'}, {'_5745035': 78, '_1248019663': 1}], [{'_4210061340': 'group D'}, {'_5745035': 67, '_1248019663': 1}], [{'_4210061340': 'group D'}, {'_5745035': 87, '_1248019663': 1}], [{'_4210061340': 'group D'}, {'_5745035': 81, '_1248019663': 1}], [{'_4210061340': 'group D'}, {'_5745035': 52, '_1248019663': 1}], [{'_4210061340': 'group D'}, {'_5745035': 93, '_1248019663': 1}], [{'_4210061340': 'group D'}, {'_5745035': 38, '_1248019663': 1}], [{'_4210061340': 'group D'}, {'_5745035': 43, '_1248019663': 1}], [{'_4210061340': 'group D'}, {'_5745035': 91, '_1248019663': 1}], [{'_4210061340': 'group D'}, {'_5745035': 46, '_1248019663': 1}], [{'_4210061340': 'group D'}, {'_5745035': 93, '_1248019663': 1}], [{'_4210061340': 'group D'}, {'_5745035': 66, '_1248019663': 1}], [{'_4210061340': 'group D'}, {'_5745035': 61, '_1248019663': 1}], [{'_4210061340': 'group D'}, {'_5745035': 87, '_1248019663': 1}], [{'_4210061340': 'group D'}, {'_5745035': 57, '_1248019663': 1}], [{'_4210061340': 'group D'}, {'_5745035': 68, '_1248019663': 1}], [{'_4210061340': 'group D'}, {'_5745035': 72, '_1248019663': 1}], [{'_4210061340': 'group D'}, {'_5745035': 67, '_1248019663': 1}], [{'_4210061340': 'group D'}, {'_5745035': 87, '_1248019663': 1}], [{'_4210061340': 'group D'}, {'_5745035': 87, '_1248019663': 1}], [{'_4210061340': 'group D'}, {'_5745035': 56, '_1248019663': 1}], [{'_4210061340': 'group D'}, {'_5745035': 77, '_1248019663': 1}], [{'_4210061340': 'group D'}, {'_5745035': 59, '_1248019663': 1}], [{'_4210061340': 'group E'}, {'_5745035': 65, '_1248019663': 1}], [{'_4210061340': 'group E'}, {'_5745035': 64, '_1248019663': 1}], [{'_4210061340': 'group E'}, {'_5745035': 76, '_1248019663': 1}], [{'_4210061340': 'group E'}, {'_5745035': 56, '_1248019663': 1}], [{'_4210061340': 'group E'}, {'_5745035': 79, '_1248019663': 1}], [{'_4210061340': 'group E'}, {'_5745035': 72, '_1248019663': 1}], [{'_4210061340': 'group E'}, {'_5745035': 89, '_1248019663': 1}], [{'_4210061340': 'group E'}, {'_5745035': 76, '_1248019663': 1}], [{'_4210061340': 'group E'}, {'_5745035': 78, '_1248019663': 1}], [{'_4210061340': 'group E'}, {'_5745035': 63, '_1248019663': 1}], [{'_4210061340': 'group E'}, {'_5745035': 88, '_1248019663': 1}], [{'_4210061340': 'group E'}, {'_5745035': 100, '_1248019663': 1}], [{'_4210061340': 'group E'}, {'_5745035': 100, '_1248019663': 1}], [{'_4210061340': 'group E'}, {'_5745035': 62, '_1248019663': 1}], [{'_4210061340': 'group E'}, {'_5745035': 48, '_1248019663': 1}], [{'_4210061340': 'group E'}, {'_5745035': 62, '_1248019663': 1}], [{'_4210061340': 'group E'}, {'_5745035': 57, '_1248019663': 1}], [{'_4210061340': 'group E'}, {'_5745035': 77, '_1248019663': 1}], [{'_4210061340': 'group E'}, {'_5745035': 53, '_1248019663': 1}], [{'_4210061340': 'group E'}, {'_5745035': 66, '_1248019663': 1}], [{'_4210061340': 'group E'}, {'_5745035': 56, '_1248019663': 1}], [{'_4210061340': 'group E'}, {'_5745035': 82, '_1248019663': 1}], [{'_4210061340': 'group E'}, {'_5745035': 87, '_1248019663': 1}], [{'_4210061340': 'group E'}, {'_5745035': 43, '_1248019663': 1}], [{'_4210061340': 'group E'}, {'_5745035': 61, '_1248019663': 1}], [{'_4210061340': 'group E'}, {'_5745035': 88, '_1248019663': 1}], [{'_4210061340': 'group E'}, {'_5745035': 76, '_1248019663': 1}], [{'_4210061340': 'group E'}, {'_5745035': 86, '_1248019663': 1}], [{'_4210061340': 'group E'}, {'_5745035': 79, '_1248019663': 1}], [{'_4210061340': 'group E'}, {'_5745035': 86, '_1248019663': 1}], [{'_4210061340': 'group E'}, {'_5745035': 57, '_1248019663': 1}], [{'_4210061340': 'group E'}, {'_5745035': 46, '_1248019663': 1}], [{'_4210061340': 'group E'}, {'_5745035': 68, '_1248019663': 1}], [{'_4210061340': 'group E'}, {'_5745035': 87, '_1248019663': 1}], [{'_4210061340': 'group E'}, {'_5745035': 91, '_1248019663': 1}], [{'_4210061340': 'group E'}, {'_5745035': 69, '_1248019663': 1}], [{'_4210061340': 'group E'}, {'_5745035': 84, '_1248019663': 1}], [{'_4210061340': 'group E'}, {'_5745035': 65, '_1248019663': 1}], [{'_4210061340': 'group E'}, {'_5745035': 73, '_1248019663': 1}], [{'_4210061340': 'group E'}, {'_5745035': 42, '_1248019663': 1}], [{'_4210061340': 'group E'}, {'_5745035': 77, '_1248019663': 1}], [{'_4210061340': 'group E'}, {'_5745035': 76, '_1248019663': 1}], [{'_4210061340': 'group E'}, {'_5745035': 69, '_1248019663': 1}], [{'_4210061340': 'group E'}, {'_5745035': 70, '_1248019663': 1}], [{'_4210061340': 'group E'}, {'_5745035': 73, '_1248019663': 1}], [{'_4210061340': 'group E'}, {'_5745035': 67, '_1248019663': 1}], [{'_4210061340': 'group E'}, {'_5745035': 62, '_1248019663': 1}], [{'_4210061340': 'group E'}, {'_5745035': 49, '_1248019663': 1}], [{'_4210061340': 'group E'}, {'_5745035': 80, '_1248019663': 1}], [{'_4210061340': 'group E'}, {'_5745035': 87, '_1248019663': 1}], [{'_4210061340': 'group E'}, {'_5745035': 100, '_1248019663': 1}], [{'_4210061340': 'group E'}, {'_5745035': 77, '_1248019663': 1}], [{'_4210061340': 'group E'}, {'_5745035': 84, '_1248019663': 1}], [{'_4210061340': 'group E'}, {'_5745035': 73, '_1248019663': 1}], [{'_4210061340': 'group E'}, {'_5745035': 83, '_1248019663': 1}], [{'_4210061340': 'group E'}, {'_5745035': 52, '_1248019663': 1}], [{'_4210061340': 'group E'}, {'_5745035': 50, '_1248019663': 1}], [{'_4210061340': 'group E'}, {'_5745035': 79, '_1248019663': 1}], [{'_4210061340': 'group E'}, {'_5745035': 78, '_1248019663': 1}], [{'_4210061340': 'group E'}, {'_5745035': 89, '_1248019663': 1}], [{'_4210061340': 'group E'}, {'_5745035': 56, '_1248019663': 1}], [{'_4210061340': 'group E'}, {'_5745035': 73, '_1248019663': 1}], [{'_4210061340': 'group E'}, {'_5745035': 84, '_1248019663': 1}], [{'_4210061340': 'group E'}, {'_5745035': 32, '_1248019663': 1}], [{'_4210061340': 'group E'}, {'_5745035': 80, '_1248019663': 1}], [{'_4210061340': 'group E'}, {'_5745035': 100, '_1248019663': 1}], [{'_4210061340': 'group E'}, {'_5745035': 88, '_1248019663': 1}], [{'_4210061340': 'group E'}, {'_5745035': 60, '_1248019663': 1}], [{'_4210061340': 'group E'}, {'_5745035': 72, '_1248019663': 1}], [{'_4210061340': 'group E'}, {'_5745035': 62, '_1248019663': 1}], [{'_4210061340': 'group E'}, {'_5745035': 96, '_1248019663': 1}], [{'_4210061340': 'group E'}, {'_5745035': 81, '_1248019663': 1}], [{'_4210061340': 'group E'}, {'_5745035': 68, '_1248019663': 1}], [{'_4210061340': 'group E'}, {'_5745035': 71, '_1248019663': 1}], [{'_4210061340': 'group E'}, {'_5745035': 70, '_1248019663': 1}], [{'_4210061340': 'group E'}, {'_5745035': 87, '_1248019663': 1}], [{'_4210061340': 'group E'}, {'_5745035': 71, '_1248019663': 1}], [{'_4210061340': 'group E'}, {'_5745035': 83, '_1248019663': 1}], [{'_4210061340': 'group E'}, {'_5745035': 65, '_1248019663': 1}], [{'_4210061340': 'group E'}, {'_5745035': 70, '_1248019663': 1}], [{'_4210061340': 'group E'}, {'_5745035': 84, '_1248019663': 1}], [{'_4210061340': 'group E'}, {'_5745035': 78, '_1248019663': 1}], [{'_4210061340': 'group E'}, {'_5745035': 51, '_1248019663': 1}], [{'_4210061340': 'group E'}, {'_5745035': 75, '_1248019663': 1}], [{'_4210061340': 'group E'}, {'_5745035': 89, '_1248019663': 1}], [{'_4210061340': 'group E'}, {'_5745035': 53, '_1248019663': 1}], [{'_4210061340': 'group E'}, {'_5745035': 50, '_1248019663': 1}], [{'_4210061340': 'group E'}, {'_5745035': 64, '_1248019663': 1}], [{'_4210061340': 'group E'}, {'_5745035': 61, '_1248019663': 1}], [{'_4210061340': 'group E'}, {'_5745035': 46, '_1248019663': 1}], [{'_4210061340': 'group E'}, {'_5745035': 84, '_1248019663': 1}], [{'_4210061340': 'group E'}, {'_5745035': 56, '_1248019663': 1}], [{'_4210061340': 'group E'}, {'_5745035': 78, '_1248019663': 1}], [{'_4210061340': 'group E'}, {'_5745035': 58, '_1248019663': 1}], [{'_4210061340': 'group E'}, {'_5745035': 100, '_1248019663': 1}], [{'_4210061340': 'group E'}, {'_5745035': 77, '_1248019663': 1}], [{'_4210061340': 'group E'}, {'_5745035': 83, '_1248019663': 1}], [{'_4210061340': 'group E'}, {'_5745035': 100, '_1248019663': 1}], [{'_4210061340': 'group E'}, {'_5745035': 73, '_1248019663': 1}], [{'_4210061340': 'group E'}, {'_5745035': 71, '_1248019663': 1}], [{'_4210061340': 'group E'}, {'_5745035': 80, '_1248019663': 1}], [{'_4210061340': 'group E'}, {'_5745035': 54, '_1248019663': 1}], [{'_4210061340': 'group E'}, {'_5745035': 62, '_1248019663': 1}], [{'_4210061340': 'group E'}, {'_5745035': 61, '_1248019663': 1}], [{'_4210061340': 'group E'}, {'_5745035': 95, '_1248019663': 1}], [{'_4210061340': 'group E'}, {'_5745035': 78, '_1248019663': 1}], [{'_4210061340': 'group E'}, {'_5745035': 87, '_1248019663': 1}], [{'_4210061340': 'group E'}, {'_5745035': 100, '_1248019663': 1}], [{'_4210061340': 'group E'}, {'_5745035': 55, '_1248019663': 1}], [{'_4210061340': 'group E'}, {'_5745035': 54, '_1248019663': 1}], [{'_4210061340': 'group E'}, {'_5745035': 75, '_1248019663': 1}], [{'_4210061340': 'group E'}, {'_5745035': 84, '_1248019663': 1}], [{'_4210061340': 'group E'}, {'_5745035': 61, '_1248019663': 1}], [{'_4210061340': 'group E'}, {'_5745035': 78, '_1248019663': 1}], [{'_4210061340': 'group E'}, {'_5745035': 100, '_1248019663': 1}], [{'_4210061340': 'group E'}, {'_5745035': 67, '_1248019663': 1}], [{'_4210061340': 'group E'}, {'_5745035': 63, '_1248019663': 1}], [{'_4210061340': 'group E'}, {'_5745035': 51, '_1248019663': 1}], [{'_4210061340': 'group E'}, {'_5745035': 76, '_1248019663': 1}], [{'_4210061340': 'group E'}, {'_5745035': 88, '_1248019663': 1}], [{'_4210061340': 'group E'}, {'_5745035': 79, '_1248019663': 1}], [{'_4210061340': 'group E'}, {'_5745035': 81, '_1248019663': 1}], [{'_4210061340': 'group E'}, {'_5745035': 68, '_1248019663': 1}], [{'_4210061340': 'group E'}, {'_5745035': 38, '_1248019663': 1}], [{'_4210061340': 'group E'}, {'_5745035': 61, '_1248019663': 1}], [{'_4210061340': 'group E'}, {'_5745035': 87, '_1248019663': 1}], [{'_4210061340': 'group E'}, {'_5745035': 83, '_1248019663': 1}], [{'_4210061340': 'group E'}, {'_5745035': 73, '_1248019663': 1}], [{'_4210061340': 'group E'}, {'_5745035': 60, '_1248019663': 1}]]}]\n"
     ]
    }
   ],
   "source": [
    "# Same with agreagate endpoint\n",
    "# - protect your IP, individuals\n",
    "# - LoD limit\n",
    "# - permissioned attributes (HR/perf)\n",
    "params = [\n",
    "\t{'type': Types.Nat32, 'value': datasetId},\n",
    "\t{'type': Types.Nat32, 'value': 1}, # dimentionId - Attribute \n",
    "\t{'type': Types.Nat32, 'value': 6}, # dimentionId - Metric\n",
    "]\n",
    "data = agent.query_raw(canisters[\"dataNFT_backend\"][\"local\"], \"getGDPRAggregatedDataset\", encode(params))\n",
    "print(data)\n"
   ]
  },
  {
   "cell_type": "code",
   "execution_count": 26,
   "id": "04a6efa5",
   "metadata": {},
   "outputs": [
    {
     "name": "stdout",
     "output_type": "stream",
     "text": [
      "[{'type': 'rec_20', 'value': []}]\n"
     ]
    }
   ],
   "source": [
    "# Data producer example\n",
    "# - non static dataset\n",
    "params = [\n",
    "\t{'type': Types.Nat32, 'value': 1},\n",
    "]\n",
    "result = agent.update_raw(canisters[\"dataNFT_backend\"][\"local\"], \"putEntry\", encode(params))"
   ]
  },
  {
   "cell_type": "code",
   "execution_count": 27,
   "id": "0edab3d2",
   "metadata": {},
   "outputs": [],
   "source": [
    "# Data deletion\n",
    "# - right to be forgotten, GDPR\n",
    "# - corrupted datapoint(s)\n",
    "params = [\n",
    "\t{'type': Types.Nat32, 'value': 1},\n",
    "]\n",
    "result = agent.update_raw(canisters[\"dataNFT_backend\"][\"local\"], \"deleteUserEntry\", encode(params))\n",
    "result = agent.update_raw(canisters[\"dataNFT_backend\"][\"local\"], \"deleteAllEntriesOfUser\", encode(params))"
   ]
  },
  {
   "cell_type": "code",
   "execution_count": null,
   "id": "402459c2",
   "metadata": {},
   "outputs": [],
   "source": [
    "# logging\n",
    "# - dataset usage, cost analysis\n",
    "# - incident analysis at record level"
   ]
  },
  {
   "cell_type": "code",
   "execution_count": null,
   "id": "e83be231",
   "metadata": {},
   "outputs": [],
   "source": [
    "# next steps:\n",
    "# - loader\n",
    "# - encryption\n",
    "# - rust for analytics\n",
    "# - consumer rules\n",
    "# - http outcalls to AWS/ML web2"
   ]
  }
 ],
 "metadata": {
  "kernelspec": {
   "display_name": "Python 3 (ipykernel)",
   "language": "python",
   "name": "python3"
  },
  "language_info": {
   "codemirror_mode": {
    "name": "ipython",
    "version": 3
   },
   "file_extension": ".py",
   "mimetype": "text/x-python",
   "name": "python",
   "nbconvert_exporter": "python",
   "pygments_lexer": "ipython3",
   "version": "3.9.15"
  }
 },
 "nbformat": 4,
 "nbformat_minor": 5
}
